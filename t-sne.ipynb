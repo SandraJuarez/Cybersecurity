{
 "cells": [
  {
   "cell_type": "code",
   "execution_count": 1,
   "metadata": {},
   "outputs": [],
   "source": [
    "import numpy as np\n",
    "import matplotlib.pyplot as plt\n",
    "import torch\n",
    "import torch.nn as nn\n",
    "import torch.optim as optim\n",
    "from sklearn.preprocessing import StandardScaler\n",
    "\n",
    "\n",
    "#en mi compu corre sobre la 3.9.5"
   ]
  },
  {
   "cell_type": "code",
   "execution_count": null,
   "metadata": {},
   "outputs": [],
   "source": [
    "\n",
    "\n",
    "class TSNE(nn.Module):\n",
    "    def __init__(self, input_dim, output_dim):\n",
    "        super(TSNE, self).__init__()\n",
    "        self.fc = nn.Linear(input_dim, output_dim)\n",
    "\n",
    "    def forward(self, x):\n",
    "        return self.fc(x)\n",
    "\n",
    "# Cargar tus datos de monitoreo de red (time, source, destination, length)\n",
    "# Aquí supongo que tienes una matriz de datos llamada 'data' donde cada fila representa una observación y cada columna representa una característica.\n",
    "# Asegúrate de que tus datos estén normalizados antes de usarlos\n",
    "# Puedes utilizar StandardScaler de sklearn para esto\n",
    "# Por ejemplo, si tus datos están en una matriz llamada 'data', puedes normalizarlos así:\n",
    "# data_normalized = StandardScaler().fit_transform(data)\n",
    "    \n",
    "\n",
    "\n",
    "\n",
    "# Definir los parámetros\n",
    "input_dim = data.shape[1]  # Dimensión de entrada\n",
    "output_dim = 2  # Dimensión de salida para t-SNE\n",
    "lr = 0.01  # Tasa de aprendizaje\n",
    "epochs = 100  # Número de épocas\n",
    "\n",
    "# Definir el modelo y la función de pérdida\n",
    "model = TSNE(input_dim, output_dim)\n",
    "criterion = nn.MSELoss()\n",
    "optimizer = optim.SGD(model.parameters(), lr=lr)\n",
    "\n",
    "# Convertir los datos a tensores de PyTorch\n",
    "X_tensor = torch.tensor(data_normalized, dtype=torch.float32)\n",
    "\n",
    "# Entrenamiento\n",
    "for epoch in range(epochs):\n",
    "    optimizer.zero_grad()\n",
    "    output = model(X_tensor)\n",
    "    loss = criterion(output, torch.zeros_like(output))  # t-SNE minimiza la divergencia de Kullback-Leibler\n",
    "    loss.backward()\n",
    "    optimizer.step()\n",
    "\n",
    "    if (epoch + 1) % 10 == 0:\n",
    "        print(f'Epoch [{epoch + 1}/{epochs}], Loss: {loss.item():.4f}')\n",
    "\n",
    "# Obtener la representación reducida\n",
    "with torch.no_grad():\n",
    "    reduced_X = model(X_tensor).numpy()\n",
    "\n",
    "# Visualizar los resultados\n",
    "plt.figure(figsize=(10, 8))\n",
    "plt.scatter(reduced_X[:, 0], reduced_X[:, 1])\n",
    "plt.xlabel('Componente 1')\n",
    "plt.ylabel('Componente 2')\n",
    "plt.title('t-SNE en Datos de Monitoreo de Red')\n",
    "plt.show()\n"
   ]
  },
  {
   "cell_type": "code",
   "execution_count": 2,
   "metadata": {},
   "outputs": [],
   "source": [
    "#read csv using pandas\n",
    "import pandas as pd\n",
    "data = pd.read_csv('ARP_MitM_dataset.csv')"
   ]
  },
  {
   "cell_type": "code",
   "execution_count": 3,
   "metadata": {},
   "outputs": [
    {
     "name": "stdout",
     "output_type": "stream",
     "text": [
      "(2504266, 115)\n"
     ]
    }
   ],
   "source": [
    "#shape of the data\n",
    "print(data.shape)"
   ]
  },
  {
   "cell_type": "code",
   "execution_count": 4,
   "metadata": {},
   "outputs": [
    {
     "name": "stdout",
     "output_type": "stream",
     "text": [
      "   1.000000000000000000e+00  1.294000000000000000e+03  \\\n",
      "0                  1.000000                    1514.0   \n",
      "1                  1.999505                    1294.0   \n",
      "2                  2.998985                    1294.0   \n",
      "3                  3.998061                    1294.0   \n",
      "4                  4.996578                    1294.0   \n",
      "\n",
      "   0.000000000000000000e+00  1.000000000000000000e+00.1  \\\n",
      "0              0.000000e+00                    1.000000   \n",
      "1              6.984919e-10                    1.999703   \n",
      "2              9.313226e-10                    2.999391   \n",
      "3              9.313226e-10                    3.998836   \n",
      "4              6.984919e-10                    4.997946   \n",
      "\n",
      "   1.294000000000000000e+03.1  0.000000000000000000e+00.1  \\\n",
      "0                      1514.0                0.000000e+00   \n",
      "1                      1294.0                2.328306e-10   \n",
      "2                      1294.0                4.656613e-10   \n",
      "3                      1294.0                2.328306e-10   \n",
      "4                      1294.0                4.656613e-10   \n",
      "\n",
      "   1.000000000000000000e+00.2  1.294000000000000000e+03.2  \\\n",
      "0                    1.000000                      1514.0   \n",
      "1                    1.999901                      1294.0   \n",
      "2                    2.999797                      1294.0   \n",
      "3                    3.999612                      1294.0   \n",
      "4                    4.999315                      1294.0   \n",
      "\n",
      "   0.000000000000000000e+00.2  1.000000000000000000e+00.3  ...  \\\n",
      "0                0.000000e+00                    1.000000  ...   \n",
      "1                6.984919e-10                    1.999990  ...   \n",
      "2                6.984919e-10                    2.999980  ...   \n",
      "3                6.984919e-10                    3.999961  ...   \n",
      "4                0.000000e+00                    4.999932  ...   \n",
      "\n",
      "   0.000000000000000000e+00.48  0.000000000000000000e+00.49  \\\n",
      "0                 0.000000e+00                          0.0   \n",
      "1                 0.000000e+00                          0.0   \n",
      "2                 6.984919e-10                          0.0   \n",
      "3                 2.328306e-10                          0.0   \n",
      "4                 4.656613e-10                          0.0   \n",
      "\n",
      "   0.000000000000000000e+00.50  1.000000000000000000e+00.24  \\\n",
      "0                          0.0                     1.000000   \n",
      "1                          0.0                     1.999999   \n",
      "2                          0.0                     2.999998   \n",
      "3                          0.0                     3.999996   \n",
      "4                          0.0                     4.999993   \n",
      "\n",
      "   1.294000000000000000e+03.28  0.000000000000000000e+00.51  \\\n",
      "0                       1514.0                     0.000000   \n",
      "1                       1294.0                     0.000000   \n",
      "2                       1294.0                     0.000015   \n",
      "3                       1294.0                     0.000000   \n",
      "4                       1294.0                     0.000000   \n",
      "\n",
      "   1.294000000000000000e+03.29  0.000000000000000000e+00.52  \\\n",
      "0                       1514.0                 0.000000e+00   \n",
      "1                       1294.0                 0.000000e+00   \n",
      "2                       1294.0                 2.328306e-10   \n",
      "3                       1294.0                 0.000000e+00   \n",
      "4                       1294.0                 0.000000e+00   \n",
      "\n",
      "   0.000000000000000000e+00.53  0.000000000000000000e+00.54  \n",
      "0                          0.0                          0.0  \n",
      "1                          0.0                          0.0  \n",
      "2                          0.0                          0.0  \n",
      "3                          0.0                          0.0  \n",
      "4                          0.0                          0.0  \n",
      "\n",
      "[5 rows x 115 columns]\n"
     ]
    }
   ],
   "source": [
    "print(data.head())"
   ]
  }
 ],
 "metadata": {
  "kernelspec": {
   "display_name": "Python 3",
   "language": "python",
   "name": "python3"
  },
  "language_info": {
   "codemirror_mode": {
    "name": "ipython",
    "version": 3
   },
   "file_extension": ".py",
   "mimetype": "text/x-python",
   "name": "python",
   "nbconvert_exporter": "python",
   "pygments_lexer": "ipython3",
   "version": "3.9.5"
  }
 },
 "nbformat": 4,
 "nbformat_minor": 2
}
