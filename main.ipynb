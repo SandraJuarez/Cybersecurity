{
 "cells": [
  {
   "cell_type": "code",
   "execution_count": 1,
   "metadata": {},
   "outputs": [],
   "source": [
    "import data_mining as dm\n",
    "from lstm_autoencoder import RecurrentAutoencoder\n",
    "import train\n",
    "import numpy as np\n",
    "import torch\n",
    "import importlib"
   ]
  },
  {
   "cell_type": "code",
   "execution_count": 2,
   "metadata": {},
   "outputs": [
    {
     "data": {
      "text/plain": [
       "<module 'train' from 'c:\\\\Users\\\\52333\\\\Documents\\\\Cybersecurity\\\\train.py'>"
      ]
     },
     "execution_count": 2,
     "metadata": {},
     "output_type": "execute_result"
    }
   ],
   "source": [
    "importlib.reload(dm)\n",
    "#importlib.reload(RecurrentAutoencoder)\n",
    "importlib.reload(train)"
   ]
  },
  {
   "cell_type": "code",
   "execution_count": 3,
   "metadata": {},
   "outputs": [
    {
     "data": {
      "text/plain": [
       "<torch._C.Generator at 0x1f5a5affa30>"
      ]
     },
     "execution_count": 3,
     "metadata": {},
     "output_type": "execute_result"
    }
   ],
   "source": [
    "device = torch.device(\"cuda\" if torch.cuda.is_available() else \"cpu\")\n",
    "RANDOM_SEED = 42\n",
    "np.random.seed(RANDOM_SEED)\n",
    "torch.manual_seed(RANDOM_SEED)"
   ]
  },
  {
   "cell_type": "markdown",
   "metadata": {},
   "source": [
    "Limpiamos la data y la dejamos en el formato necesario para entrenar\n",
    "===================================================================="
   ]
  },
  {
   "cell_type": "code",
   "execution_count": 4,
   "metadata": {},
   "outputs": [
    {
     "name": "stdout",
     "output_type": "stream",
     "text": [
      "(267, 5)\n"
     ]
    },
    {
     "name": "stderr",
     "output_type": "stream",
     "text": [
      "c:\\Users\\52333\\Documents\\Cybersecurity\\data_mining.py:51: FutureWarning: The default value of regex will change from True to False in a future version. In addition, single character regular expressions will *not* be treated as literal strings when regex=True.\n",
      "  df['Source'] = df['Source'].str.replace('.', '')\n",
      "c:\\Users\\52333\\Documents\\Cybersecurity\\data_mining.py:52: FutureWarning: The default value of regex will change from True to False in a future version. In addition, single character regular expressions will *not* be treated as literal strings when regex=True.\n",
      "  df['Destination'] = df['Destination'].str.replace('.', '')\n"
     ]
    }
   ],
   "source": [
    "train_dataset,seq_len,n_features,val_dataset=dm.clean_and_get_Data('test2.csv')"
   ]
  },
  {
   "cell_type": "code",
   "execution_count": 5,
   "metadata": {},
   "outputs": [
    {
     "name": "stdout",
     "output_type": "stream",
     "text": [
      "226\n"
     ]
    }
   ],
   "source": [
    "print(len(train_dataset))"
   ]
  },
  {
   "cell_type": "markdown",
   "metadata": {},
   "source": [
    "Creamos el modelo\n",
    "================"
   ]
  },
  {
   "cell_type": "code",
   "execution_count": 6,
   "metadata": {},
   "outputs": [],
   "source": [
    "model = RecurrentAutoencoder(seq_len, n_features,128)\n",
    "#model = model.to(device)"
   ]
  },
  {
   "cell_type": "markdown",
   "metadata": {},
   "source": [
    "Entrenamos\n",
    "=========="
   ]
  },
  {
   "cell_type": "code",
   "execution_count": 7,
   "metadata": {},
   "outputs": [
    {
     "name": "stdout",
     "output_type": "stream",
     "text": [
      "Epoch 1: train loss 2.0306393720407403 val loss 1.7209667881553092\n",
      "Epoch 2: train loss 1.4393543468508045 val loss 1.1211498295992948\n",
      "Epoch 3: train loss 1.105281616272652 val loss 1.0333395139052626\n",
      "Epoch 4: train loss 1.0089751161568987 val loss 0.9437886172633493\n",
      "Epoch 5: train loss 1.1629789446571233 val loss 0.9033881075094256\n",
      "Epoch 6: train loss 0.6925946856494498 val loss 0.5616441341430953\n",
      "Epoch 7: train loss 0.42944976763255827 val loss 0.40177533068181426\n",
      "Epoch 8: train loss 0.3434128412169165 val loss 0.33979377682121953\n",
      "Epoch 9: train loss 0.3209400696234893 val loss 0.37684394360593193\n",
      "Epoch 10: train loss 0.2940908841525031 val loss 0.31022273200783834\n",
      "Epoch 11: train loss 0.2845857398073494 val loss 0.3221596395701505\n",
      "Epoch 12: train loss 0.27772245353368 val loss 0.30264663106102624\n",
      "Epoch 13: train loss 0.27576636748833466 val loss 0.24203200765958663\n",
      "Epoch 14: train loss 0.2570976137257783 val loss 0.2225623034108221\n",
      "Epoch 15: train loss 0.20894673240857314 val loss 0.261885641917084\n",
      "Epoch 16: train loss 0.2226049225876289 val loss 0.20798314626464684\n",
      "Epoch 17: train loss 0.20704268822364047 val loss 0.24252060045268428\n",
      "Epoch 18: train loss 0.19296498445019258 val loss 0.1951626454260242\n",
      "Epoch 19: train loss 0.1773134899877869 val loss 0.21277703110421642\n",
      "Epoch 20: train loss 0.18278295413253054 val loss 0.17947464666507218\n",
      "Epoch 21: train loss 0.17703065493729261 val loss 0.19565737226538443\n",
      "Epoch 22: train loss 0.17629404286895178 val loss 0.2166961801939466\n",
      "Epoch 23: train loss 0.16887215218317192 val loss 0.22668626448244192\n",
      "Epoch 24: train loss 0.18261027106998767 val loss 0.23065171269386003\n",
      "Epoch 25: train loss 0.18714529481938982 val loss 0.14457502027743319\n",
      "Epoch 26: train loss 0.16652203418841932 val loss 0.16447486004300332\n",
      "Epoch 27: train loss 0.14710853451582712 val loss 0.2242965428891142\n",
      "Epoch 28: train loss 0.15231282662484893 val loss 0.17786933638657745\n",
      "Epoch 29: train loss 0.15947645969804278 val loss 0.18141658378116202\n",
      "Epoch 30: train loss 0.15577191562779183 val loss 0.16478422020425956\n",
      "Epoch 31: train loss 0.16503127098940643 val loss 0.1663411038435912\n",
      "Epoch 32: train loss 0.14014122376333824 val loss 0.15800674640563098\n",
      "Epoch 33: train loss 0.15135887753119512 val loss 0.1528038183708539\n",
      "Epoch 34: train loss 0.1429209923948598 val loss 0.16571701081532442\n",
      "Epoch 35: train loss 0.13849700556293262 val loss 0.1576870965530698\n",
      "Epoch 36: train loss 0.14497134759527655 val loss 0.16510994343108007\n",
      "Epoch 37: train loss 0.13848980857405516 val loss 0.12670852587129292\n",
      "Epoch 38: train loss 0.12969211856958218 val loss 0.16031831069692468\n",
      "Epoch 39: train loss 0.12413218986671583 val loss 0.1274910688797912\n",
      "Epoch 40: train loss 0.1309933739063223 val loss 0.15367805392722064\n",
      "Epoch 41: train loss 0.12365115348216707 val loss 0.14068613134408264\n",
      "Epoch 42: train loss 0.12698671644537057 val loss 0.12306637735514159\n",
      "Epoch 43: train loss 0.1198065424898425 val loss 0.13889671738123457\n",
      "Epoch 44: train loss 0.11888258144325387 val loss 0.1280549882042609\n",
      "Epoch 45: train loss 0.11710387223968859 val loss 0.11825379329534728\n",
      "Epoch 46: train loss 0.11050393176059016 val loss 0.15865629739808232\n",
      "Epoch 47: train loss 0.11384908798093026 val loss 0.11765355191957415\n",
      "Epoch 48: train loss 0.11105414225299538 val loss 0.10379512120414985\n",
      "Epoch 49: train loss 0.11214087779872713 val loss 0.11522807681074973\n",
      "Epoch 50: train loss 0.10822508972863444 val loss 0.10791112128854467\n",
      "Epoch 51: train loss 0.10800117354807073 val loss 0.10470838843729724\n",
      "Epoch 52: train loss 0.1035366569917682 val loss 0.1125002857088373\n",
      "Epoch 53: train loss 0.09908128252862829 val loss 0.06766423732670171\n",
      "Epoch 54: train loss 0.10430726415551869 val loss 0.10688650394591052\n",
      "Epoch 55: train loss 0.09998123237319224 val loss 0.10226982193632742\n",
      "Epoch 56: train loss 0.08682553268210814 val loss 0.08973746640042643\n",
      "Epoch 57: train loss 0.08338493202705827 val loss 0.06680936650948578\n",
      "Epoch 58: train loss 0.0817281235198993 val loss 0.07144656328463488\n",
      "Epoch 59: train loss 0.08033564952985112 val loss 0.10349236399437604\n",
      "Epoch 60: train loss 0.0809689605509681 val loss 0.09565708211759168\n",
      "Epoch 61: train loss 0.07712882835071831 val loss 0.06969406422269478\n",
      "Epoch 62: train loss 0.07604360057090499 val loss 0.06612871229920662\n",
      "Epoch 63: train loss 0.07766519969873197 val loss 0.07601412132466107\n",
      "Epoch 64: train loss 0.07604811749363367 val loss 0.08603360047668554\n",
      "Epoch 65: train loss 0.07211494503081241 val loss 0.055137521430347745\n",
      "Epoch 66: train loss 0.10727255680161503 val loss 0.13428764394746068\n",
      "Epoch 67: train loss 0.10463095204162914 val loss 0.078310677007343\n",
      "Epoch 68: train loss 0.07866779224436103 val loss 0.0907124544525247\n",
      "Epoch 69: train loss 0.07284016345639968 val loss 0.06835912189477783\n",
      "Epoch 70: train loss 0.07288893153561296 val loss 0.07585816578730271\n",
      "Epoch 71: train loss 0.0717708458052536 val loss 0.0645156123602156\n",
      "Epoch 72: train loss 0.0704571656404739 val loss 0.07243719847684496\n",
      "Epoch 73: train loss 0.07035878686794797 val loss 0.08790507874964329\n",
      "Epoch 74: train loss 0.07546068141978662 val loss 0.09475284348126878\n",
      "Epoch 75: train loss 0.07016433822403176 val loss 0.07081753109696876\n",
      "Epoch 76: train loss 0.0631804077605824 val loss 0.052724712444573975\n",
      "Epoch 77: train loss 0.06585683368673895 val loss 0.07098275949927361\n",
      "Epoch 78: train loss 0.0646563612410914 val loss 0.052330063232168385\n",
      "Epoch 79: train loss 0.0692480635268828 val loss 0.054890478097865084\n",
      "Epoch 80: train loss 0.06405184983350007 val loss 0.06251290219239472\n",
      "Epoch 81: train loss 0.06967718532902345 val loss 0.052748376367550885\n",
      "Epoch 82: train loss 0.06516647922386111 val loss 0.0502391295570336\n",
      "Epoch 83: train loss 0.06577865121292725 val loss 0.08604045249940304\n",
      "Epoch 84: train loss 0.06775705127325733 val loss 0.07101729806261452\n",
      "Epoch 85: train loss 0.06733601439777201 val loss 0.08134026168270057\n",
      "Epoch 86: train loss 0.06268171766624514 val loss 0.05226656561717391\n",
      "Epoch 87: train loss 0.0599442594066526 val loss 0.06113294565401385\n",
      "Epoch 88: train loss 0.06298780741285434 val loss 0.06024263389513231\n",
      "Epoch 89: train loss 0.0612606775238121 val loss 0.0553219508212269\n",
      "Epoch 90: train loss 0.0603134794267867 val loss 0.05846657449107492\n",
      "Epoch 91: train loss 0.06307335863450328 val loss 0.059468550921491024\n",
      "Epoch 92: train loss 0.05973428767174482 val loss 0.057649547349284874\n",
      "Epoch 93: train loss 0.0596247069801377 val loss 0.046152739021717834\n",
      "Epoch 94: train loss 0.0607524099224041 val loss 0.07359223214260648\n",
      "Epoch 95: train loss 0.06373389779004902 val loss 0.07239234613861596\n",
      "Epoch 96: train loss 0.057829337515991876 val loss 0.07102331629002027\n",
      "Epoch 97: train loss 0.061699646867119366 val loss 0.05304328858684958\n",
      "Epoch 98: train loss 0.05829325564353999 val loss 0.05275957018471836\n",
      "Epoch 99: train loss 0.061531492842740454 val loss 0.06708230500978031\n",
      "Epoch 100: train loss 0.05994920524875674 val loss 0.05691590867518039\n"
     ]
    }
   ],
   "source": [
    "model, history = train.train_model(\n",
    "  model, \n",
    "  train_dataset, \n",
    "  val_dataset, \n",
    "  n_epochs=100\n",
    ")"
   ]
  },
  {
   "cell_type": "code",
   "execution_count": 8,
   "metadata": {},
   "outputs": [],
   "source": [
    "MODEL_PATH = 'model.pth'\n",
    "\n",
    "torch.save(model, MODEL_PATH)"
   ]
  },
  {
   "cell_type": "code",
   "execution_count": 13,
   "metadata": {},
   "outputs": [],
   "source": [
    "from torch import nn\n",
    "def predict(model, dataset):\n",
    "  predictions, losses = [], []\n",
    "  criterion = nn.L1Loss(reduction='sum').to(device)\n",
    "  with torch.no_grad():\n",
    "    model = model.eval()\n",
    "    for seq_true in dataset:\n",
    "      seq_true = seq_true.to(device)\n",
    "      seq_pred = model(seq_true)\n",
    "\n",
    "      loss = criterion(seq_pred, seq_true)\n",
    "\n",
    "      predictions.append(seq_pred.cpu().numpy().flatten())\n",
    "      losses.append(loss.item())\n",
    "  return predictions, losses"
   ]
  },
  {
   "cell_type": "code",
   "execution_count": 14,
   "metadata": {},
   "outputs": [
    {
     "name": "stderr",
     "output_type": "stream",
     "text": [
      "C:\\Users\\52333\\AppData\\Local\\Temp\\ipykernel_13144\\2828376390.py:5: UserWarning: \n",
      "\n",
      "`distplot` is a deprecated function and will be removed in seaborn v0.14.0.\n",
      "\n",
      "Please adapt your code to use either `displot` (a figure-level function with\n",
      "similar flexibility) or `histplot` (an axes-level function for histograms).\n",
      "\n",
      "For a guide to updating your code to use the new functions, please see\n",
      "https://gist.github.com/mwaskom/de44147ed2974457ad6372750bbe5751\n",
      "\n",
      "  sns.distplot(losses, bins=50, kde=True);\n"
     ]
    },
    {
     "data": {
      "image/png": "[encoded data removed]",
      "text/plain": [
       "<Figure size 640x480 with 1 Axes>"
      ]
     },
     "metadata": {},
     "output_type": "display_data"
    }
   ],
   "source": [
    "import seaborn as sns\n",
    "from torch import nn\n",
    "_, losses = predict(model, train_dataset)\n",
    "\n",
    "sns.distplot(losses, bins=50, kde=True);"
   ]
  },
  {
   "cell_type": "code",
   "execution_count": 15,
   "metadata": {},
   "outputs": [],
   "source": [
    "THRESHOLD = 0.14"
   ]
  },
  {
   "cell_type": "code",
   "execution_count": 17,
   "metadata": {},
   "outputs": [
    {
     "name": "stdout",
     "output_type": "stream",
     "text": [
      "(1685, 5)\n"
     ]
    },
    {
     "name": "stderr",
     "output_type": "stream",
     "text": [
      "c:\\Users\\52333\\Documents\\Cybersecurity\\data_mining.py:51: FutureWarning: The default value of regex will change from True to False in a future version. In addition, single character regular expressions will *not* be treated as literal strings when regex=True.\n",
      "  df['Source'] = df['Source'].str.replace('.', '')\n",
      "c:\\Users\\52333\\Documents\\Cybersecurity\\data_mining.py:52: FutureWarning: The default value of regex will change from True to False in a future version. In addition, single character regular expressions will *not* be treated as literal strings when regex=True.\n",
      "  df['Destination'] = df['Destination'].str.replace('.', '')\n"
     ]
    }
   ],
   "source": [
    "anomaly_dataset,Aseq_len,An_features,Aval_dataset=dm.clean_and_get_Data('spoofing_1.csv')"
   ]
  },
  {
   "cell_type": "code",
   "execution_count": 18,
   "metadata": {},
   "outputs": [
    {
     "name": "stderr",
     "output_type": "stream",
     "text": [
      "C:\\Users\\52333\\AppData\\Local\\Temp\\ipykernel_13144\\2222098121.py:2: UserWarning: \n",
      "\n",
      "`distplot` is a deprecated function and will be removed in seaborn v0.14.0.\n",
      "\n",
      "Please adapt your code to use either `displot` (a figure-level function with\n",
      "similar flexibility) or `histplot` (an axes-level function for histograms).\n",
      "\n",
      "For a guide to updating your code to use the new functions, please see\n",
      "https://gist.github.com/mwaskom/de44147ed2974457ad6372750bbe5751\n",
      "\n",
      "  sns.distplot(pred_losses, bins=50, kde=True);\n"
     ]
    },
    {
     "data": {
      "image/png": "[encoded data removed]",
      "text/plain": [
       "<Figure size 640x480 with 1 Axes>"
      ]
     },
     "metadata": {},
     "output_type": "display_data"
    }
   ],
   "source": [
    "predictions, pred_losses = predict(model, anomaly_dataset)\n",
    "sns.distplot(pred_losses, bins=50, kde=True);"
   ]
  },
  {
   "cell_type": "code",
   "execution_count": 19,
   "metadata": {},
   "outputs": [
    {
     "name": "stdout",
     "output_type": "stream",
     "text": [
      "Correct anomaly predictions: 1395/1432\n"
     ]
    }
   ],
   "source": [
    "correct = sum(l > THRESHOLD for l in pred_losses)\n",
    "print(f'Correct anomaly predictions: {correct}/{len(anomaly_dataset)}')"
   ]
  }
 ],
 "metadata": {
  "kernelspec": {
   "display_name": "Python 3",
   "language": "python",
   "name": "python3"
  },
  "language_info": {
   "codemirror_mode": {
    "name": "ipython",
    "version": 3
   },
   "file_extension": ".py",
   "mimetype": "text/x-python",
   "name": "python",
   "nbconvert_exporter": "python",
   "pygments_lexer": "ipython3",
   "version": "3.10.5"
  }
 },
 "nbformat": 4,
 "nbformat_minor": 2
}
