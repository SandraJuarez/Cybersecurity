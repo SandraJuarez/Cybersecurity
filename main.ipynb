{
 "cells": [
  {
   "cell_type": "code",
   "execution_count": 1,
   "metadata": {},
   "outputs": [],
   "source": [
    "import data_mining as dm\n",
    "from lstm_autoencoder import RecurrentAutoencoder\n",
    "import train\n",
    "import numpy as np\n",
    "import torch\n",
    "import importlib"
   ]
  },
  {
   "cell_type": "code",
   "execution_count": 2,
   "metadata": {},
   "outputs": [
    {
     "data": {
      "text/plain": [
       "<module 'train' from 'c:\\\\Users\\\\52333\\\\Documents\\\\Cybersecurity - copia\\\\train.py'>"
      ]
     },
     "execution_count": 2,
     "metadata": {},
     "output_type": "execute_result"
    }
   ],
   "source": [
    "importlib.reload(dm)\n",
    "#importlib.reload(RecurrentAutoencoder)\n",
    "importlib.reload(train)"
   ]
  },
  {
   "cell_type": "code",
   "execution_count": 3,
   "metadata": {},
   "outputs": [
    {
     "data": {
      "text/plain": [
       "<torch._C.Generator at 0x23aa600fa30>"
      ]
     },
     "execution_count": 3,
     "metadata": {},
     "output_type": "execute_result"
    }
   ],
   "source": [
    "device = torch.device(\"cuda\" if torch.cuda.is_available() else \"cpu\")\n",
    "RANDOM_SEED = 42\n",
    "np.random.seed(RANDOM_SEED)\n",
    "torch.manual_seed(RANDOM_SEED)"
   ]
  },
  {
   "cell_type": "markdown",
   "metadata": {},
   "source": [
    "Limpiamos la data y la dejamos en el formato necesario para entrenar\n",
    "===================================================================="
   ]
  },
  {
   "cell_type": "code",
   "execution_count": 4,
   "metadata": {},
   "outputs": [
    {
     "name": "stderr",
     "output_type": "stream",
     "text": [
      "c:\\Users\\52333\\Documents\\Cybersecurity - copia\\data_mining.py:56: FutureWarning: The default value of regex will change from True to False in a future version. In addition, single character regular expressions will *not* be treated as literal strings when regex=True.\n",
      "  df['Source'] = df['Source'].str.replace('.', '')\n",
      "c:\\Users\\52333\\Documents\\Cybersecurity - copia\\data_mining.py:57: FutureWarning: The default value of regex will change from True to False in a future version. In addition, single character regular expressions will *not* be treated as literal strings when regex=True.\n",
      "  df['Destination'] = df['Destination'].str.replace('.', '')\n"
     ]
    },
    {
     "name": "stdout",
     "output_type": "stream",
     "text": [
      "el shape del dataset torch.Size([36100, 25, 3, 1])\n",
      "36100 25 3\n",
      "el shape del dataset torch.Size([28450, 25, 3, 1])\n",
      "28450 25 3\n",
      "el shape del dataset torch.Size([14000, 25, 3, 1])\n",
      "14000 25 3\n"
     ]
    }
   ],
   "source": [
    "\n",
    "train_dataset,seq_len,n_features,val_dataset=dm.clean_and_get_Data('50benign_10.csv') #el 10 es el tamaño de la secuencia de paquetes que queremos\n",
    "#train_dataset,seq_len,n_features,val_dataset=dm.clean_and_get_Data('50.csv')"
   ]
  },
  {
   "cell_type": "code",
   "execution_count": 5,
   "metadata": {},
   "outputs": [
    {
     "name": "stdout",
     "output_type": "stream",
     "text": [
      "torch.Size([36100, 25, 3, 1])\n"
     ]
    }
   ],
   "source": [
    "print(train_dataset.shape)"
   ]
  },
  {
   "cell_type": "code",
   "execution_count": 6,
   "metadata": {},
   "outputs": [
    {
     "name": "stdout",
     "output_type": "stream",
     "text": [
      "36100\n"
     ]
    }
   ],
   "source": [
    "print(len(train_dataset))"
   ]
  },
  {
   "cell_type": "markdown",
   "metadata": {},
   "source": [
    "Creamos el modelo\n",
    "================"
   ]
  },
  {
   "cell_type": "code",
   "execution_count": 7,
   "metadata": {},
   "outputs": [
    {
     "name": "stdout",
     "output_type": "stream",
     "text": [
      "25\n"
     ]
    }
   ],
   "source": [
    "model = RecurrentAutoencoder(seq_len, n_features,65)\n",
    "print(seq_len)\n",
    "model = model.to(device)"
   ]
  },
  {
   "cell_type": "markdown",
   "metadata": {},
   "source": [
    "Entrenamos\n",
    "=========="
   ]
  },
  {
   "cell_type": "code",
   "execution_count": 8,
   "metadata": {},
   "outputs": [
    {
     "name": "stdout",
     "output_type": "stream",
     "text": [
      "Epoch 1: train loss 0.5530696632789959 val loss 0.13117470437670634\n",
      "Epoch 2: train loss 0.09582041348503526 val loss 0.04562650195318021\n",
      "Epoch 3: train loss 0.07890921902592575 val loss 0.09231682185915108\n",
      "Epoch 4: train loss 0.06842492501037273 val loss 0.06043308333204061\n",
      "Epoch 5: train loss 0.06163327031389622 val loss 0.04399165903772956\n",
      "Epoch 6: train loss 0.05684825761140507 val loss 0.0552068276671277\n",
      "Epoch 7: train loss 0.05259769092006944 val loss 0.042711998460739066\n",
      "Epoch 8: train loss 0.04890336699414885 val loss 0.04214102258332899\n",
      "Epoch 9: train loss 0.04668197444090594 val loss 0.04011944593013852\n",
      "Epoch 10: train loss 0.04404792481775388 val loss 0.028812723840162917\n"
     ]
    }
   ],
   "source": [
    "model, history = train.train_model(\n",
    "  model, \n",
    "  train_dataset, \n",
    "  val_dataset, \n",
    "  n_epochs=10\n",
    ")"
   ]
  },
  {
   "cell_type": "code",
   "execution_count": 9,
   "metadata": {},
   "outputs": [],
   "source": [
    "MODEL_PATH = '25model.pth'\n",
    "\n",
    "torch.save(model, MODEL_PATH)"
   ]
  },
  {
   "cell_type": "code",
   "execution_count": 12,
   "metadata": {},
   "outputs": [],
   "source": [
    "from torch import nn\n",
    "def predict(model, dataset):\n",
    "  predictions, losses = [], []\n",
    "  criterion = nn.L1Loss(reduction='sum').to(device)\n",
    "  with torch.no_grad():\n",
    "    model = model.eval()\n",
    "    for seq_true in dataset:\n",
    "      seq_true=seq_true.reshape((25,1,3))\n",
    "      seq_true = seq_true.to(device)\n",
    "      seq_pred = model(seq_true)\n",
    "      seq_pred=seq_pred.reshape((25,1,3))\n",
    "      loss = criterion(seq_pred, seq_true)\n",
    "\n",
    "      predictions.append(seq_pred.cpu().numpy().flatten())\n",
    "      losses.append(loss.item())\n",
    "  return predictions, losses"
   ]
  },
  {
   "cell_type": "code",
   "execution_count": 13,
   "metadata": {},
   "outputs": [],
   "source": [
    "#import seaborn as sns\n",
    "from torch import nn\n",
    "MODEL_PATH = '25model.pth'\n",
    "loaded_model = torch.load(MODEL_PATH)\n",
    "\n",
    "# Asegúrate de definir 'device' según corresponda (por ejemplo, 'cpu' o 'cuda')\n",
    "device = torch.device('cuda' if torch.cuda.is_available() else 'cpu')\n",
    "loaded_model = loaded_model.to(device)\n",
    "\n",
    "# Ahora puedes hacer predicciones con el modelo cargado\n",
    "# Suponiendo que tienes un conjunto de datos llamado 'mi_dataset'\n",
    "# que quieres usar para hacer predicciones\n",
    "\n",
    "_, losses = predict(loaded_model, train_dataset)\n",
    "\n",
    "#sns.distplot(losses, bins=50, kde=True);"
   ]
  },
  {
   "cell_type": "code",
   "execution_count": 14,
   "metadata": {},
   "outputs": [
    {
     "data": {
      "image/png": "[encoded data removed]",
      "text/plain": [
       "<Figure size 640x480 with 1 Axes>"
      ]
     },
     "metadata": {},
     "output_type": "display_data"
    }
   ],
   "source": [
    "import matplotlib.pyplot as plt\n",
    "import numpy as np\n",
    "from scipy.stats import gaussian_kde\n",
    "\n",
    "# Suponiendo que \"losses\" es una lista de valores de pérdida\n",
    "\n",
    "# Creamos el histograma\n",
    "plt.hist(losses, bins=50, density=True, alpha=0.6, color='g')\n",
    "\n",
    "# Creamos una estimación de densidad de kernel (KDE)\n",
    "kde = gaussian_kde(losses)\n",
    "kde_xs = np.linspace(min(losses), max(losses), 1000)\n",
    "kde_values = kde.evaluate(kde_xs)\n",
    "plt.plot(kde_xs, kde_values, 'r')\n",
    "\n",
    "# Añadimos etiquetas y título\n",
    "plt.xlabel('Loss')\n",
    "plt.ylabel('Density')\n",
    "plt.title('Distribution of Losses')\n",
    "\n",
    "# Mostramos el gráfico\n",
    "plt.show()\n"
   ]
  },
  {
   "cell_type": "code",
   "execution_count": 15,
   "metadata": {},
   "outputs": [
    {
     "name": "stdout",
     "output_type": "stream",
     "text": [
      "0.028821080782014744\n"
     ]
    }
   ],
   "source": [
    "import numpy as np\n",
    "THRESHOLD = np.mean(losses)\n",
    "print(THRESHOLD)"
   ]
  },
  {
   "cell_type": "markdown",
   "metadata": {},
   "source": [
    "Probemos cómo el modelo se comporta para determinar que una señal de spoofing es anómala\n",
    "==========================================================================================="
   ]
  },
  {
   "cell_type": "code",
   "execution_count": 17,
   "metadata": {},
   "outputs": [
    {
     "name": "stdout",
     "output_type": "stream",
     "text": [
      "el shape del dataset torch.Size([1407, 25, 3, 1])\n",
      "1407 25 3\n",
      "el shape del dataset torch.Size([1103, 25, 3, 1])\n",
      "1103 25 3\n",
      "el shape del dataset torch.Size([532, 25, 3, 1])\n",
      "532 25 3\n"
     ]
    },
    {
     "name": "stderr",
     "output_type": "stream",
     "text": [
      "c:\\Users\\52333\\Documents\\Cybersecurity - copia\\data_mining.py:56: FutureWarning: The default value of regex will change from True to False in a future version. In addition, single character regular expressions will *not* be treated as literal strings when regex=True.\n",
      "  df['Source'] = df['Source'].str.replace('.', '')\n",
      "c:\\Users\\52333\\Documents\\Cybersecurity - copia\\data_mining.py:57: FutureWarning: The default value of regex will change from True to False in a future version. In addition, single character regular expressions will *not* be treated as literal strings when regex=True.\n",
      "  df['Destination'] = df['Destination'].str.replace('.', '')\n"
     ]
    }
   ],
   "source": [
    "anomaly_dataset,Aseq_len,An_features,Aval_dataset=dm.clean_and_get_Data('spoofing_1.csv')"
   ]
  },
  {
   "cell_type": "code",
   "execution_count": 18,
   "metadata": {},
   "outputs": [],
   "source": [
    "predictions, pred_losses = predict(loaded_model, anomaly_dataset)\n",
    "#sns.distplot(pred_losses, bins=50, kde=True);"
   ]
  },
  {
   "cell_type": "code",
   "execution_count": 19,
   "metadata": {},
   "outputs": [
    {
     "name": "stdout",
     "output_type": "stream",
     "text": [
      "Correct spoofing anomaly predictions: 1407/1407\n"
     ]
    }
   ],
   "source": [
    "correct = sum(l > THRESHOLD for l in pred_losses)\n",
    "print(f'Correct spoofing anomaly predictions: {correct}/{len(anomaly_dataset)}')"
   ]
  },
  {
   "cell_type": "code",
   "execution_count": 20,
   "metadata": {},
   "outputs": [
    {
     "data": {
      "image/png": "[encoded data removed]",
      "text/plain": [
       "<Figure size 640x480 with 1 Axes>"
      ]
     },
     "metadata": {},
     "output_type": "display_data"
    }
   ],
   "source": [
    "# Creamos el histograma\n",
    "plt.hist(losses, bins=50, density=True, alpha=0.6, color='g')\n",
    "\n",
    "# Creamos una estimación de densidad de kernel (KDE)\n",
    "kde = gaussian_kde(pred_losses)\n",
    "kde_xs = np.linspace(min(losses), max(losses), 1000)\n",
    "kde_values = kde.evaluate(kde_xs)\n",
    "plt.plot(kde_xs, kde_values, 'r')\n",
    "\n",
    "# Añadimos etiquetas y título\n",
    "plt.xlabel('Loss')\n",
    "plt.ylabel('Density')\n",
    "plt.title('Distribution of Losses')\n",
    "\n",
    "# Mostramos el gráfico\n",
    "plt.show()\n"
   ]
  },
  {
   "cell_type": "markdown",
   "metadata": {},
   "source": [
    "Ahora veamos cómo detecta los DDOS\n",
    "=================================="
   ]
  },
  {
   "cell_type": "code",
   "execution_count": 22,
   "metadata": {},
   "outputs": [
    {
     "name": "stderr",
     "output_type": "stream",
     "text": [
      "c:\\Users\\52333\\Documents\\Cybersecurity - copia\\data_mining.py:56: FutureWarning: The default value of regex will change from True to False in a future version. In addition, single character regular expressions will *not* be treated as literal strings when regex=True.\n",
      "  df['Source'] = df['Source'].str.replace('.', '')\n",
      "c:\\Users\\52333\\Documents\\Cybersecurity - copia\\data_mining.py:57: FutureWarning: The default value of regex will change from True to False in a future version. In addition, single character regular expressions will *not* be treated as literal strings when regex=True.\n",
      "  df['Destination'] = df['Destination'].str.replace('.', '')\n"
     ]
    },
    {
     "name": "stdout",
     "output_type": "stream",
     "text": [
      "el shape del dataset torch.Size([34279, 25, 3, 1])\n",
      "34279 25 3\n",
      "el shape del dataset torch.Size([27014, 25, 3, 1])\n",
      "27014 25 3\n",
      "el shape del dataset torch.Size([13294, 25, 3, 1])\n",
      "13294 25 3\n"
     ]
    }
   ],
   "source": [
    "anomaly_dataset,Aseq_len,An_features,Aval_dataset=dm.clean_and_get_Data('ddos_short_sample.csv')"
   ]
  },
  {
   "cell_type": "code",
   "execution_count": 23,
   "metadata": {},
   "outputs": [],
   "source": [
    "predictions, pred_losses = predict(loaded_model, anomaly_dataset)\n",
    "#sns.distplot(pred_losses, bins=50, kde=True);"
   ]
  },
  {
   "cell_type": "code",
   "execution_count": null,
   "metadata": {},
   "outputs": [
    {
     "name": "stdout",
     "output_type": "stream",
     "text": [
      "Correct spoofing anomaly predictions: 13682/34304\n"
     ]
    }
   ],
   "source": [
    "correct = sum(l > THRESHOLD for l in pred_losses)\n",
    "print(f'Correct DDOS anomaly predictions: {correct}/{len(anomaly_dataset)}')"
   ]
  },
  {
   "cell_type": "code",
   "execution_count": null,
   "metadata": {},
   "outputs": [
    {
     "data": {
      "image/png": "[encoded data removed]",
      "text/plain": [
       "<Figure size 640x480 with 1 Axes>"
      ]
     },
     "metadata": {},
     "output_type": "display_data"
    }
   ],
   "source": [
    "plt.hist(losses, bins=50, density=True, alpha=0.6, color='g')\n",
    "\n",
    "# Creamos una estimación de densidad de kernel (KDE)\n",
    "kde = gaussian_kde(pred_losses)\n",
    "kde_xs = np.linspace(min(losses), max(losses), 1000)\n",
    "kde_values = kde.evaluate(kde_xs)\n",
    "plt.plot(kde_xs, kde_values, 'r')\n",
    "\n",
    "# Añadimos etiquetas y título\n",
    "plt.xlabel('Loss')\n",
    "plt.ylabel('Density')\n",
    "plt.title('Distribution of Losses')\n",
    "\n",
    "# Mostramos el gráfico\n",
    "plt.show()"
   ]
  },
  {
   "cell_type": "markdown",
   "metadata": {},
   "source": [
    "Ahora con ataques de fuerza bruta\n",
    "======================================="
   ]
  },
  {
   "cell_type": "code",
   "execution_count": 25,
   "metadata": {},
   "outputs": [
    {
     "name": "stderr",
     "output_type": "stream",
     "text": [
      "c:\\Users\\52333\\Documents\\Cybersecurity - copia\\data_mining.py:56: FutureWarning: The default value of regex will change from True to False in a future version. In addition, single character regular expressions will *not* be treated as literal strings when regex=True.\n",
      "  df['Source'] = df['Source'].str.replace('.', '')\n",
      "c:\\Users\\52333\\Documents\\Cybersecurity - copia\\data_mining.py:57: FutureWarning: The default value of regex will change from True to False in a future version. In addition, single character regular expressions will *not* be treated as literal strings when regex=True.\n",
      "  df['Destination'] = df['Destination'].str.replace('.', '')\n"
     ]
    },
    {
     "name": "stdout",
     "output_type": "stream",
     "text": [
      "el shape del dataset torch.Size([6101, 25, 3, 1])\n",
      "6101 25 3\n",
      "el shape del dataset torch.Size([4804, 25, 3, 1])\n",
      "4804 25 3\n",
      "el shape del dataset torch.Size([2354, 25, 3, 1])\n",
      "2354 25 3\n"
     ]
    }
   ],
   "source": [
    "anomaly_dataset,Aseq_len,An_features,Aval_dataset=dm.clean_and_get_Data('brute_force_sample.csv')"
   ]
  },
  {
   "cell_type": "code",
   "execution_count": 26,
   "metadata": {},
   "outputs": [
    {
     "name": "stdout",
     "output_type": "stream",
     "text": [
      "Correct  brute force attack predictions: 6101/6101\n"
     ]
    }
   ],
   "source": [
    "predictions, pred_losses = predict(loaded_model, anomaly_dataset)\n",
    "correct = sum(l > THRESHOLD for l in pred_losses)\n",
    "print(f'Correct  brute force attack predictions: {correct}/{len(anomaly_dataset)}')"
   ]
  },
  {
   "cell_type": "code",
   "execution_count": 27,
   "metadata": {},
   "outputs": [
    {
     "data": {
      "image/png": "[encoded data removed]",
      "text/plain": [
       "<Figure size 640x480 with 1 Axes>"
      ]
     },
     "metadata": {},
     "output_type": "display_data"
    }
   ],
   "source": [
    "plt.hist(losses, bins=50, density=True, alpha=0.6, color='g')\n",
    "\n",
    "# Creamos una estimación de densidad de kernel (KDE)\n",
    "kde = gaussian_kde(pred_losses)\n",
    "kde_xs = np.linspace(min(losses), max(losses), 1000)\n",
    "kde_values = kde.evaluate(kde_xs)\n",
    "plt.plot(kde_xs, kde_values, 'r')\n",
    "\n",
    "# Añadimos etiquetas y título\n",
    "plt.xlabel('Loss')\n",
    "plt.ylabel('Density')\n",
    "plt.title('Distribution of Losses')\n",
    "\n",
    "# Mostramos el gráfico\n",
    "plt.show()"
   ]
  }
 ],
 "metadata": {
  "kernelspec": {
   "display_name": "Python 3",
   "language": "python",
   "name": "python3"
  },
  "language_info": {
   "codemirror_mode": {
    "name": "ipython",
    "version": 3
   },
   "file_extension": ".py",
   "mimetype": "text/x-python",
   "name": "python",
   "nbconvert_exporter": "python",
   "pygments_lexer": "ipython3",
   "version": "3.10.5"
  }
 },
 "nbformat": 4,
 "nbformat_minor": 2
}
