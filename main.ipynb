{
 "cells": [
  {
   "cell_type": "code",
   "execution_count": 1,
   "metadata": {},
   "outputs": [],
   "source": [
    "import data_mining as dm\n",
    "from lstm_autoencoder import RecurrentAutoencoder\n",
    "import train\n",
    "import numpy as np\n",
    "import torch\n",
    "import importlib"
   ]
  },
  {
   "cell_type": "code",
   "execution_count": 4,
   "metadata": {},
   "outputs": [
    {
     "data": {
      "text/plain": [
       "<module 'train' from 'c:\\\\Users\\\\52333\\\\Documents\\\\sisa\\\\train.py'>"
      ]
     },
     "execution_count": 4,
     "metadata": {},
     "output_type": "execute_result"
    }
   ],
   "source": [
    "importlib.reload(dm)\n",
    "#importlib.reload(RecurrentAutoencoder)\n",
    "importlib.reload(train)"
   ]
  },
  {
   "cell_type": "code",
   "execution_count": 5,
   "metadata": {},
   "outputs": [
    {
     "data": {
      "text/plain": [
       "<torch._C.Generator at 0x13b8eaf5b30>"
      ]
     },
     "execution_count": 5,
     "metadata": {},
     "output_type": "execute_result"
    }
   ],
   "source": [
    "device = torch.device(\"cuda\" if torch.cuda.is_available() else \"cpu\")\n",
    "RANDOM_SEED = 42\n",
    "np.random.seed(RANDOM_SEED)\n",
    "torch.manual_seed(RANDOM_SEED)"
   ]
  },
  {
   "cell_type": "markdown",
   "metadata": {},
   "source": [
    "Limpiamos la data y la dejamos en el formato necesario para entrenar\n",
    "===================================================================="
   ]
  },
  {
   "cell_type": "code",
   "execution_count": 6,
   "metadata": {},
   "outputs": [
    {
     "name": "stderr",
     "output_type": "stream",
     "text": [
      "c:\\Users\\52333\\Documents\\sisa\\data_mining.py:34: FutureWarning: The default value of regex will change from True to False in a future version. In addition, single character regular expressions will *not* be treated as literal strings when regex=True.\n",
      "  df['Source'] = df['Source'].str.replace('.', '')\n",
      "c:\\Users\\52333\\Documents\\sisa\\data_mining.py:35: FutureWarning: The default value of regex will change from True to False in a future version. In addition, single character regular expressions will *not* be treated as literal strings when regex=True.\n",
      "  df['Destination'] = df['Destination'].str.replace('.', '')\n"
     ]
    }
   ],
   "source": [
    "train_dataset,seq_len,n_features,val_dataset,test_normal_dataset=dm.clean_and_get_Data('test2.csv')"
   ]
  },
  {
   "cell_type": "markdown",
   "metadata": {},
   "source": [
    "Creamos el modelo\n",
    "================"
   ]
  },
  {
   "cell_type": "code",
   "execution_count": 7,
   "metadata": {},
   "outputs": [],
   "source": [
    "model = RecurrentAutoencoder(seq_len, n_features)\n",
    "model = model.to(device)"
   ]
  },
  {
   "cell_type": "markdown",
   "metadata": {},
   "source": [
    "Entrenamos\n",
    "=========="
   ]
  },
  {
   "cell_type": "code",
   "execution_count": 8,
   "metadata": {},
   "outputs": [
    {
     "name": "stdout",
     "output_type": "stream",
     "text": [
      "Epoch 1: train loss 12.220993020893198 val loss 12.108739236767372\n",
      "Epoch 2: train loss 11.976988678484892 val loss 11.65297715047772\n",
      "Epoch 3: train loss 11.490154295896007 val loss 11.156725979922863\n",
      "Epoch 4: train loss 10.987592870155266 val loss 10.783196084954765\n",
      "Epoch 5: train loss 9.704170895888742 val loss 8.713134390584539\n",
      "Epoch 6: train loss 5.239036550300312 val loss 2.2891135644376948\n",
      "Epoch 7: train loss 1.8307733969284898 val loss 1.5982773032750976\n",
      "Epoch 8: train loss 1.538157530722365 val loss 1.5092300431112224\n",
      "Epoch 9: train loss 1.442982004279584 val loss 1.3238609332716866\n",
      "Epoch 10: train loss 1.343297170326773 val loss 1.4077627869804255\n",
      "Epoch 11: train loss 1.2806846063617057 val loss 1.2097094998684492\n",
      "Epoch 12: train loss 1.2409180473305483 val loss 1.2698020714052607\n",
      "Epoch 13: train loss 1.2278791090424082 val loss 1.23560641957133\n",
      "Epoch 14: train loss 1.2197144972407712 val loss 1.195050993662202\n",
      "Epoch 15: train loss 1.2249859800908418 val loss 1.1849231321490212\n"
     ]
    }
   ],
   "source": [
    "model, history = train.train_model(\n",
    "  model, \n",
    "  train_dataset, \n",
    "  val_dataset, \n",
    "  n_epochs=15\n",
    ")"
   ]
  }
 ],
 "metadata": {
  "kernelspec": {
   "display_name": "Python 3",
   "language": "python",
   "name": "python3"
  },
  "language_info": {
   "codemirror_mode": {
    "name": "ipython",
    "version": 3
   },
   "file_extension": ".py",
   "mimetype": "text/x-python",
   "name": "python",
   "nbconvert_exporter": "python",
   "pygments_lexer": "ipython3",
   "version": "3.10.2"
  }
 },
 "nbformat": 4,
 "nbformat_minor": 2
}
