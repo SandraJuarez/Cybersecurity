{
 "cells": [
  {
   "cell_type": "code",
   "execution_count": 82,
   "metadata": {},
   "outputs": [],
   "source": [
    "import data_mining as dm\n",
    "from lstm_autoencoder import RecurrentAutoencoder\n",
    "import train\n",
    "import numpy as np\n",
    "import torch\n",
    "import importlib"
   ]
  },
  {
   "cell_type": "code",
   "execution_count": 83,
   "metadata": {},
   "outputs": [
    {
     "data": {
      "text/plain": [
       "<module 'train' from 'c:\\\\Users\\\\52333\\\\Documents\\\\sisa\\\\train.py'>"
      ]
     },
     "execution_count": 83,
     "metadata": {},
     "output_type": "execute_result"
    }
   ],
   "source": [
    "importlib.reload(dm)\n",
    "#importlib.reload(RecurrentAutoencoder)\n",
    "importlib.reload(train)"
   ]
  },
  {
   "cell_type": "code",
   "execution_count": 84,
   "metadata": {},
   "outputs": [
    {
     "data": {
      "text/plain": [
       "<torch._C.Generator at 0x17eba639bd0>"
      ]
     },
     "execution_count": 84,
     "metadata": {},
     "output_type": "execute_result"
    }
   ],
   "source": [
    "device = torch.device(\"cuda\" if torch.cuda.is_available() else \"cpu\")\n",
    "RANDOM_SEED = 42\n",
    "np.random.seed(RANDOM_SEED)\n",
    "torch.manual_seed(RANDOM_SEED)"
   ]
  },
  {
   "cell_type": "markdown",
   "metadata": {},
   "source": [
    "Limpiamos la data y la dejamos en el formato necesario para entrenar\n",
    "===================================================================="
   ]
  },
  {
   "cell_type": "code",
   "execution_count": 85,
   "metadata": {},
   "outputs": [
    {
     "name": "stdout",
     "output_type": "stream",
     "text": [
      "(8385, 2)\n"
     ]
    },
    {
     "name": "stdout",
     "output_type": "stream",
     "text": [
      "el shape del dataset torch.Size([7102, 25, 2, 1])\n",
      "el shape del dataset torch.Size([5592, 25, 2, 1])\n",
      "el shape del dataset torch.Size([2743, 25, 2, 1])\n"
     ]
    }
   ],
   "source": [
    "train_dataset,seq_len,n_features,val_dataset=dm.clean_and_get_Data('benign_sample.csv')"
   ]
  },
  {
   "cell_type": "code",
   "execution_count": 86,
   "metadata": {},
   "outputs": [
    {
     "name": "stdout",
     "output_type": "stream",
     "text": [
      "7127\n"
     ]
    }
   ],
   "source": [
    "print(len(train_dataset))"
   ]
  },
  {
   "cell_type": "markdown",
   "metadata": {},
   "source": [
    "Creamos el modelo\n",
    "================"
   ]
  },
  {
   "cell_type": "code",
   "execution_count": 87,
   "metadata": {},
   "outputs": [],
   "source": [
    "model = RecurrentAutoencoder(seq_len, n_features,128)\n",
    "#model = model.to(device)"
   ]
  },
  {
   "cell_type": "markdown",
   "metadata": {},
   "source": [
    "Entrenamos\n",
    "=========="
   ]
  },
  {
   "cell_type": "code",
   "execution_count": 88,
   "metadata": {},
   "outputs": [
    {
     "name": "stdout",
     "output_type": "stream",
     "text": [
      "Epoch 1: train loss 0.03686336290577519 val loss 0.017233398592257726\n",
      "Epoch 2: train loss 0.01764027917029704 val loss 0.01688907444009513\n",
      "Epoch 3: train loss 0.014079776893799972 val loss 0.010500045941579866\n",
      "Epoch 4: train loss 0.012423545999042936 val loss 0.009158599037335161\n",
      "Epoch 5: train loss 0.011351917087312076 val loss 0.02080954798712059\n",
      "Epoch 6: train loss 0.010225442828322336 val loss 0.0043853387771085935\n",
      "Epoch 7: train loss 0.009279074231898696 val loss 0.0070231394221516585\n",
      "Epoch 8: train loss 0.008195692488648728 val loss 0.0058089441695503095\n",
      "Epoch 9: train loss 0.00799112876038613 val loss 0.004992463895212909\n",
      "Epoch 10: train loss 0.007283855892936033 val loss 0.007185051127664217\n",
      "Epoch 11: train loss 0.006873695057924545 val loss 0.008060303465752964\n",
      "Epoch 12: train loss 0.006806236791881417 val loss 0.0039472618432385915\n",
      "Epoch 13: train loss 0.0063860078656326705 val loss 0.0042287089456366994\n",
      "Epoch 14: train loss 0.0059811518166976154 val loss 0.004788090675728822\n",
      "Epoch 15: train loss 0.005755198459909188 val loss 0.00361310774336289\n"
     ]
    }
   ],
   "source": [
    "model, history = train.train_model(\n",
    "  model, \n",
    "  train_dataset, \n",
    "  val_dataset, \n",
    "  n_epochs=15\n",
    ")"
   ]
  },
  {
   "cell_type": "code",
   "execution_count": 89,
   "metadata": {},
   "outputs": [],
   "source": [
    "MODEL_PATH = 'model.pth'\n",
    "\n",
    "torch.save(model, MODEL_PATH)"
   ]
  },
  {
   "cell_type": "code",
   "execution_count": 90,
   "metadata": {},
   "outputs": [],
   "source": [
    "from torch import nn\n",
    "def predict(model, dataset):\n",
    "  predictions, losses = [], []\n",
    "  criterion = nn.L1Loss(reduction='sum').to(device)\n",
    "  with torch.no_grad():\n",
    "    model = model.eval()\n",
    "    for seq_true in dataset:\n",
    "      seq_true = seq_true.to(device)\n",
    "      seq_pred = model(seq_true)\n",
    "\n",
    "      loss = criterion(seq_pred, seq_true)\n",
    "\n",
    "      predictions.append(seq_pred.cpu().numpy().flatten())\n",
    "      losses.append(loss.item())\n",
    "  return predictions, losses"
   ]
  },
  {
   "cell_type": "code",
   "execution_count": 91,
   "metadata": {},
   "outputs": [],
   "source": [
    "#import seaborn as sns\n",
    "from torch import nn\n",
    "MODEL_PATH = 'model.pth'\n",
    "loaded_model = torch.load(MODEL_PATH)\n",
    "\n",
    "# Asegúrate de definir 'device' según corresponda (por ejemplo, 'cpu' o 'cuda')\n",
    "device = torch.device('cuda' if torch.cuda.is_available() else 'cpu')\n",
    "loaded_model = loaded_model.to(device)\n",
    "\n",
    "# Ahora puedes hacer predicciones con el modelo cargado\n",
    "# Suponiendo que tienes un conjunto de datos llamado 'mi_dataset'\n",
    "# que quieres usar para hacer predicciones\n",
    "\n",
    "_, losses = predict(loaded_model, train_dataset)\n",
    "\n",
    "#sns.distplot(losses, bins=50, kde=True);"
   ]
  },
  {
   "cell_type": "code",
   "execution_count": 92,
   "metadata": {},
   "outputs": [
    {
     "data": {
      "image/png": "[encoded data removed]",
      "text/plain": [
       "<Figure size 432x288 with 1 Axes>"
      ]
     },
     "metadata": {
      "needs_background": "light"
     },
     "output_type": "display_data"
    }
   ],
   "source": [
    "import matplotlib.pyplot as plt\n",
    "import numpy as np\n",
    "from scipy.stats import gaussian_kde\n",
    "\n",
    "# Suponiendo que \"losses\" es una lista de valores de pérdida\n",
    "\n",
    "# Creamos el histograma\n",
    "plt.hist(losses, bins=50, density=True, alpha=0.6, color='g')\n",
    "\n",
    "# Creamos una estimación de densidad de kernel (KDE)\n",
    "kde = gaussian_kde(losses)\n",
    "kde_xs = np.linspace(min(losses), max(losses), 1000)\n",
    "kde_values = kde.evaluate(kde_xs)\n",
    "plt.plot(kde_xs, kde_values, 'r')\n",
    "\n",
    "# Añadimos etiquetas y título\n",
    "plt.xlabel('Loss')\n",
    "plt.ylabel('Density')\n",
    "plt.title('Distribution of Losses')\n",
    "\n",
    "# Mostramos el gráfico\n",
    "plt.show()\n"
   ]
  },
  {
   "cell_type": "code",
   "execution_count": 93,
   "metadata": {},
   "outputs": [
    {
     "name": "stdout",
     "output_type": "stream",
     "text": [
      "0.0035533849629296003\n"
     ]
    }
   ],
   "source": [
    "import numpy as np\n",
    "THRESHOLD = np.mean(losses)\n",
    "print(THRESHOLD)"
   ]
  },
  {
   "cell_type": "markdown",
   "metadata": {},
   "source": [
    "Probemos cómo el modelo se comporta para determinar que una señal de spoofing es anómala\n",
    "==========================================================================================="
   ]
  },
  {
   "cell_type": "code",
   "execution_count": 94,
   "metadata": {},
   "outputs": [
    {
     "name": "stdout",
     "output_type": "stream",
     "text": [
      "(1685, 2)\n",
      "el shape del dataset torch.Size([1407, 25, 2, 1])\n",
      "el shape del dataset torch.Size([1103, 25, 2, 1])\n",
      "el shape del dataset torch.Size([532, 25, 2, 1])\n"
     ]
    }
   ],
   "source": [
    "anomaly_dataset,Aseq_len,An_features,Aval_dataset=dm.clean_and_get_Data('spoofing_1.csv')"
   ]
  },
  {
   "cell_type": "code",
   "execution_count": 95,
   "metadata": {},
   "outputs": [],
   "source": [
    "predictions, pred_losses = predict(loaded_model, anomaly_dataset)\n",
    "#sns.distplot(pred_losses, bins=50, kde=True);"
   ]
  },
  {
   "cell_type": "code",
   "execution_count": 96,
   "metadata": {},
   "outputs": [
    {
     "name": "stdout",
     "output_type": "stream",
     "text": [
      "Correct spoofing anomaly predictions: 1414/1432\n"
     ]
    }
   ],
   "source": [
    "correct = sum(l > THRESHOLD for l in pred_losses)\n",
    "print(f'Correct spoofing anomaly predictions: {correct}/{len(anomaly_dataset)}')"
   ]
  },
  {
   "cell_type": "code",
   "execution_count": 97,
   "metadata": {},
   "outputs": [
    {
     "data": {
      "image/png": "[encoded data removed]",
      "text/plain": [
       "<Figure size 432x288 with 1 Axes>"
      ]
     },
     "metadata": {
      "needs_background": "light"
     },
     "output_type": "display_data"
    }
   ],
   "source": [
    "# Creamos el histograma\n",
    "plt.hist(losses, bins=50, density=True, alpha=0.6, color='g')\n",
    "\n",
    "# Creamos una estimación de densidad de kernel (KDE)\n",
    "kde = gaussian_kde(pred_losses)\n",
    "kde_xs = np.linspace(min(losses), max(losses), 1000)\n",
    "kde_values = kde.evaluate(kde_xs)\n",
    "plt.plot(kde_xs, kde_values, 'r')\n",
    "\n",
    "# Añadimos etiquetas y título\n",
    "plt.xlabel('Loss')\n",
    "plt.ylabel('Density')\n",
    "plt.title('Distribution of Losses')\n",
    "\n",
    "# Mostramos el gráfico\n",
    "plt.show()\n"
   ]
  },
  {
   "cell_type": "markdown",
   "metadata": {},
   "source": [
    "Ahora veamos cómo detecta los DDOS\n",
    "=================================="
   ]
  },
  {
   "cell_type": "code",
   "execution_count": 98,
   "metadata": {},
   "outputs": [
    {
     "name": "stdout",
     "output_type": "stream",
     "text": [
      "(40358, 2)\n",
      "el shape del dataset torch.Size([34279, 25, 2, 1])\n",
      "el shape del dataset torch.Size([27014, 25, 2, 1])\n",
      "el shape del dataset torch.Size([13294, 25, 2, 1])\n"
     ]
    }
   ],
   "source": [
    "anomaly_dataset,Aseq_len,An_features,Aval_dataset=dm.clean_and_get_Data('ddos_short_sample.csv')"
   ]
  },
  {
   "cell_type": "code",
   "execution_count": 99,
   "metadata": {},
   "outputs": [
    {
     "name": "stdout",
     "output_type": "stream",
     "text": [
      "Correct spoofing anomaly predictions: 1217/34304\n"
     ]
    }
   ],
   "source": [
    "predictions, pred_losses = predict(loaded_model, anomaly_dataset)\n",
    "correct = sum(l > THRESHOLD for l in pred_losses)\n",
    "print(f'Correct spoofing anomaly predictions: {correct}/{len(anomaly_dataset)}')"
   ]
  },
  {
   "cell_type": "code",
   "execution_count": 100,
   "metadata": {},
   "outputs": [
    {
     "data": {
      "image/png": "[encoded data removed]",
      "text/plain": [
       "<Figure size 432x288 with 1 Axes>"
      ]
     },
     "metadata": {
      "needs_background": "light"
     },
     "output_type": "display_data"
    }
   ],
   "source": [
    "plt.hist(losses, bins=50, density=True, alpha=0.6, color='g')\n",
    "\n",
    "# Creamos una estimación de densidad de kernel (KDE)\n",
    "kde = gaussian_kde(pred_losses)\n",
    "kde_xs = np.linspace(min(losses), max(losses), 1000)\n",
    "kde_values = kde.evaluate(kde_xs)\n",
    "plt.plot(kde_xs, kde_values, 'r')\n",
    "\n",
    "# Añadimos etiquetas y título\n",
    "plt.xlabel('Loss')\n",
    "plt.ylabel('Density')\n",
    "plt.title('Distribution of Losses')\n",
    "\n",
    "# Mostramos el gráfico\n",
    "plt.show()"
   ]
  },
  {
   "cell_type": "markdown",
   "metadata": {},
   "source": [
    "Ahora con ataques de fuerza bruta\n",
    "======================================="
   ]
  },
  {
   "cell_type": "code",
   "execution_count": 101,
   "metadata": {},
   "outputs": [
    {
     "name": "stdout",
     "output_type": "stream",
     "text": [
      "(7208, 2)\n",
      "el shape del dataset torch.Size([6101, 25, 2, 1])\n",
      "el shape del dataset torch.Size([4804, 25, 2, 1])\n",
      "el shape del dataset torch.Size([2354, 25, 2, 1])\n"
     ]
    }
   ],
   "source": [
    "anomaly_dataset,Aseq_len,An_features,Aval_dataset=dm.clean_and_get_Data('brute_force_sample.csv')"
   ]
  },
  {
   "cell_type": "code",
   "execution_count": 102,
   "metadata": {},
   "outputs": [
    {
     "name": "stdout",
     "output_type": "stream",
     "text": [
      "Correct  brute force attack predictions: 3521/6126\n"
     ]
    }
   ],
   "source": [
    "predictions, pred_losses = predict(loaded_model, anomaly_dataset)\n",
    "correct = sum(l > THRESHOLD for l in pred_losses)\n",
    "print(f'Correct  brute force attack predictions: {correct}/{len(anomaly_dataset)}')"
   ]
  },
  {
   "cell_type": "code",
   "execution_count": 103,
   "metadata": {},
   "outputs": [
    {
     "data": {
      "image/png": "[encoded data removed]",
      "text/plain": [
       "<Figure size 432x288 with 1 Axes>"
      ]
     },
     "metadata": {
      "needs_background": "light"
     },
     "output_type": "display_data"
    }
   ],
   "source": [
    "plt.hist(losses, bins=50, density=True, alpha=0.6, color='g')\n",
    "\n",
    "# Creamos una estimación de densidad de kernel (KDE)\n",
    "kde = gaussian_kde(pred_losses)\n",
    "kde_xs = np.linspace(min(losses), max(losses), 1000)\n",
    "kde_values = kde.evaluate(kde_xs)\n",
    "plt.plot(kde_xs, kde_values, 'r')\n",
    "\n",
    "# Añadimos etiquetas y título\n",
    "plt.xlabel('Loss')\n",
    "plt.ylabel('Density')\n",
    "plt.title('Distribution of Losses')\n",
    "\n",
    "# Mostramos el gráfico\n",
    "plt.show()"
   ]
  }
 ],
 "metadata": {
  "kernelspec": {
   "display_name": "Python 3",
   "language": "python",
   "name": "python3"
  },
  "language_info": {
   "codemirror_mode": {
    "name": "ipython",
    "version": 3
   },
   "file_extension": ".py",
   "mimetype": "text/x-python",
   "name": "python",
   "nbconvert_exporter": "python",
   "pygments_lexer": "ipython3",
   "version": "3.10.2"
  }
 },
 "nbformat": 4,
 "nbformat_minor": 2
}
