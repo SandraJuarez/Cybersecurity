{
 "cells": [
  {
   "cell_type": "code",
   "execution_count": 4,
   "metadata": {},
   "outputs": [],
   "source": [
    "import clean_urls\n",
    "from sklearn.model_selection import train_test_split\n",
    "from sklearn.metrics import confusion_matrix,classification_report,accuracy_score\n",
    "from sklearn.tree import DecisionTreeClassifier"
   ]
  },
  {
   "cell_type": "code",
   "execution_count": 58,
   "metadata": {},
   "outputs": [
    {
     "name": "stderr",
     "output_type": "stream",
     "text": [
      "c:\\Users\\flaco\\OneDrive\\Escritorio\\hackaton_2024\\Cybersecurity\\desicion_tree\\clean_urls.py:50: FutureWarning: In a future version of pandas all arguments of DataFrame.drop except for the argument 'labels' will be keyword-only.\n",
      "  urldata = urldata.drop(\"tld\",1)\n"
     ]
    }
   ],
   "source": [
    "url=\"C:/Users/flaco/OneDrive/Escritorio/hackaton_2024/Cybersecurity/data/malicious_phish.csv\"\n",
    "x,y=clean_urls.get_info_from_url(url)"
   ]
  },
  {
   "cell_type": "code",
   "execution_count": 59,
   "metadata": {},
   "outputs": [],
   "source": [
    "x_train, x_test, y_train, y_test = train_test_split(x, y, train_size=0.7, random_state=42)\n"
   ]
  },
  {
   "cell_type": "code",
   "execution_count": 61,
   "metadata": {},
   "outputs": [
    {
     "data": {
      "text/plain": [
       "0.9572426007637261"
      ]
     },
     "execution_count": 61,
     "metadata": {},
     "output_type": "execute_result"
    }
   ],
   "source": [
    "#Decision Tree\n",
    "dt_model = DecisionTreeClassifier()\n",
    "dt_model.fit(x_train,y_train)\n",
    "\n",
    "dt_predictions = dt_model.predict(x_test)\n",
    "accuracy_score(y_test,dt_predictions)"
   ]
  },
  {
   "cell_type": "code",
   "execution_count": 62,
   "metadata": {},
   "outputs": [
    {
     "data": {
      "text/plain": [
       "0.9506393390595727"
      ]
     },
     "execution_count": 62,
     "metadata": {},
     "output_type": "execute_result"
    }
   ],
   "source": [
    "#train a mlp \n",
    "\n",
    "from sklearn.neural_network import MLPClassifier\n",
    "mlp_model = MLPClassifier()\n",
    "mlp_model.fit(x_train,y_train)\n",
    "\n",
    "mlp_predictions = mlp_model.predict(x_test)\n",
    "accuracy_score(y_test,mlp_predictions)\n",
    "\n"
   ]
  },
  {
   "cell_type": "code",
   "execution_count": null,
   "metadata": {},
   "outputs": [],
   "source": []
  },
  {
   "cell_type": "code",
   "execution_count": 69,
   "metadata": {},
   "outputs": [],
   "source": [
    "#save decision tree model\n",
    "import pickle\n",
    "with open('model_desicion_tree.pkl', 'wb') as model_file:\n",
    "    pickle.dump(dt_model, model_file)"
   ]
  },
  {
   "cell_type": "code",
   "execution_count": 70,
   "metadata": {},
   "outputs": [
    {
     "name": "stdout",
     "output_type": "stream",
     "text": [
      "[2 2 2 2 2 2 2 2 0 2]\n"
     ]
    }
   ],
   "source": [
    "#load decision tree model\n",
    "with open('model_desicion_tree.pkl', 'rb') as model_file:\n",
    "    dt_model = pickle.load(model_file)\n",
    "\n",
    "#test model\n",
    "dt_predictions = dt_model.predict(x_2)\n",
    "print(dt_predictions[:10])\n",
    "#accuracy_score(y_test,dt_predictions)\n",
    "#print(classification_report(y_test, dt_predictions))\n",
    "#print(confusion_matrix(y_test, dt_predictions))\n",
    "#print(accuracy_score(y_test, dt_predictions))\n"
   ]
  },
  {
   "cell_type": "code",
   "execution_count": 71,
   "metadata": {},
   "outputs": [
    {
     "name": "stdout",
     "output_type": "stream",
     "text": [
      "   hostname_length  path_length  fd_length  tld_length  count-  count@  \\\n",
      "0                0           14          0          -1       0       0   \n",
      "1                0           14          0          -1       0       0   \n",
      "2                0           29          0          -1       0       0   \n",
      "3                0           29          0          -1       0       0   \n",
      "4                0           29          0          -1       0       0   \n",
      "\n",
      "   count?  count%  count.  count=  count-http  count-https  count-www  \\\n",
      "0       0       0       2       0           0            0          0   \n",
      "1       0       0       2       0           0            0          0   \n",
      "2       0       0       2       0           0            0          0   \n",
      "3       0       0       2       0           0            0          0   \n",
      "4       0       0       2       0           0            0          0   \n",
      "\n",
      "   count-digits  count-letters  count_dir  use_of_ip  \n",
      "0             0             12          0          1  \n",
      "1             0             12          0          1  \n",
      "2             0             27          0          1  \n",
      "3             0             27          0          1  \n",
      "4             0             27          0          1  \n",
      "[2 2 2 2 2 2 2 2 0 2 2 0 0 0 0 0 0 2 2 0 0 2 2 2 2 2 2 0 2 2 0 0 2 2 0 0 0\n",
      " 2 2 0 0 2 2 0 0 0 2 2 2 2 0 0 2 2 0 2 2 2 0 2 0 0 0 2 2 2 2 0 0 0 0 2 2 0\n",
      " 2 2 0 2 0 2 0 0 0 0 2 2 2 2 2 2 0 0 0 0 0 0 2 2 0 2 0 2 0 0 2 2 2 2 2 2 2\n",
      " 2 0 2 0 2 0 0 0 2 2 0 2 0 0 0 0 2 2 2 0 0 0 2 2 2 0 0 2 2 2 0 0 2 2 2 2 2\n",
      " 2 2 0 0 2 2 2 2 0 2 2 0 2 2 2 2 2 0 2 2 2 2 2 0 0 2 2 2 2 2 2 2 2 2 2 0 0\n",
      " 0 0 0 0 0 0 0 0 0 0 0 0 0 0 0 0 0 0 0 2 2 0 0 0 0 0 0 0 2 2 2 2 0 0 0 2 2\n",
      " 2 2 2 2 2 2 2 2 0 0 0 0 2 2 2 2 0 2 2 0 0 0 0 2 2 2 2 2 2 2 2 0 0 0 0 0 2\n",
      " 2 2 2 2 2 2 0 0 0 0 2 2 2 2 2 2 0 0 0 0 0 0 2 2 0 0 0 0 2 2 2 2 0 0 0 0 0\n",
      " 0 0 0 0 0 2 2 2 2 2 2 2 2 0 0 2 2 2 2 0 2 2 2 2 2 2 2 2 2 2 2 2 2 2 2 2 2\n",
      " 2 2 2 2 2 2 2 0 2 2 0 2 2 2 2 2 2 2 0 0 0 0 0 2 2 2 2 2 2 0 0 0 0 0 0 0 0\n",
      " 0 2 2 2 2 0 0 2 2 2 2 2 2 2 2 2 2 0 0 0 0 0 0 0 0 0 0 0 0 0 0 0 0 0 0 2 2\n",
      " 2 2 2 2 0 0 0 0 2 2 2 2 2 2 0 2 2 2 2 0 0 0 0 0 0 0 2 2 0 0 0 0 0 0 0 2 2\n",
      " 2 0 0 2 2 2 2 2 2 2 2 2 2 2 2 2 0 0 2 2 0 0 0 0 0 0 0 0 2 2 0 0 0 0 0 0 0\n",
      " 0 2 2 2 2 2 2 2 2 2 2 2 2 0 0 0 0 0 0 0 0 2 2 2 2 0 0 0 0 0 0 0 0 0 0 0 0\n",
      " 0 0 0 0 0 0 2 2 0 0 0 2 2 0 0 0 0 2 2 2 2 0 0 0 0 0 2 2 2 2 0 0 0 0 2 2 0\n",
      " 0 0 0 2 2 2 2 0 0 0 2 2 2 2 0 0 0 2 2 2 2 2 2 2 2 0 0 2 2 2 2 2 2]\n"
     ]
    },
    {
     "name": "stderr",
     "output_type": "stream",
     "text": [
      "c:\\Users\\flaco\\OneDrive\\Escritorio\\hackaton_2024\\Cybersecurity\\desicion_tree\\clean_urls.py:50: FutureWarning: In a future version of pandas all arguments of DataFrame.drop except for the argument 'labels' will be keyword-only.\n",
      "  urldata = urldata.drop(\"tld\",1)\n"
     ]
    }
   ],
   "source": [
    "url_test=\"../data/urls.csv\"\n",
    "\n",
    "x_2,y_2=clean_urls.get_info_from_url(url_test)\n",
    "print(x_2[:5])\n",
    "dt_predictions = dt_model.predict(x_2)\n",
    "print(dt_predictions)\n",
    "\n"
   ]
  },
  {
   "cell_type": "code",
   "execution_count": 72,
   "metadata": {},
   "outputs": [
    {
     "name": "stdout",
     "output_type": "stream",
     "text": [
      "[2 2 2 2 2 2 2 2 2 2 2 2 2 2 2 2 2 2 2 2 2 2 2 2 2 2 2 2 2 2 2 2 2 2 2 2 2\n",
      " 2 2 2 2 2 2 2 2 2 2 2 2 2 2 2 2 2 2 2 2 2 2 2 2 2 2 2 2 2 2 2 2 2 2 2 2 2\n",
      " 2 2 2 2 2 2 2 2 2 2 2 2 2 2 2 2 2 2 2 2 2 2 2 2 2 2 2 2 2 2 2 2 2 2 2 2 2\n",
      " 2 2 2 2 2 2 2 2 2 2 2 2 2 2 2 2 2 2 2 2 2 2 2 2 2 2 2 2 2 2 2 2 2 2 2 2 2\n",
      " 2 2 2 2 2 2 2 2 2 2 2 2 2 2 2 2 2 2 2 2 2 2 2 2 2 2 2 2 2 2 2 2 2 2 2 2 2\n",
      " 2 2 2 2 2 2 2 2 2 2 2 2 2 2 2 2 2 2 2 2 2 2 2 2 2 2 2 2 2 2 2 2 2 2 2 2 2\n",
      " 2 2 2 2 2 2 2 2 2 2 2 2 2 2 2 2 2 2 2 2 2 2 2 2 2 2 2 2 2 2 2 2 2 2 2 2 2\n",
      " 2 2 2 2 2 2 2 2 2 2 2 2 2 2 2 2 2 2 2 2 2 2 2 2 2 2 2 2 2 2 2 2 2 2 2 2 2\n",
      " 2 2 2 2 2 2 2 2 2 2 2 2 2 2 2 2 2 2 2 2 2 2 2 2 2 2 2 2 2 2 2 2 2 2 2 2 2\n",
      " 2 2 2 2 2 2 2 2 2 2 2 2 2 2 2 2 2 2 2 2 2 2 2 2 2 2 2 2 2 2 2 2 2 2 2 2 2\n",
      " 2 2 2 2 2 2 2 2 2 2 2 2 2 2 2 2 2 2 2 2 2 2 2 2 2 2 2 2 2 2 2 2 2 2 2 2 2\n",
      " 2 2 2 2 2 2 2 2 2 2 2 2 2 2 2 2 2 2 2 2 2 2 2 2 2 2 2 2 2 2 2 2 2 2 2 2 2\n",
      " 2 2 2 2 2 2 2 2 2 2 2 2 2 2 2 2 2 2 2 2 2 2 2 2 2 2 2 2 2 2 2 2 2 2 2 2 2\n",
      " 2 2 2 2 2 2 2 2 2 2 2 2 2 2 2 2 2 2 2 2 2 2 2 2 2 2 2 2 2 2 2 2 2 2 2 2 2\n",
      " 2 2 2 2 2 2 2 2 2 2 2 2 2 2 2 2 2 2 2 2 2 2 2 2 2 2 2 2 2 2 2 2 2 2 2 2 2\n",
      " 2 2 2 2 2 2 2 2 2 2 2 2 2 2 2 2 2 2 2 2 2 2 2 2 2 2 2 2 2 2 2 2 2]\n"
     ]
    }
   ],
   "source": [
    "#MLP prediction\n",
    "mlp_predictions = mlp_model.predict(x_2)\n",
    "print(mlp_predictions)"
   ]
  },
  {
   "cell_type": "code",
   "execution_count": 92,
   "metadata": {},
   "outputs": [
    {
     "name": "stdout",
     "output_type": "stream",
     "text": [
      "(588, 17)\n",
      "(7588, 17)\n",
      "(588,)\n",
      "[0 0 0 ... 0 0 0]\n"
     ]
    },
    {
     "data": {
      "text/plain": [
       "0.9499341238471674"
      ]
     },
     "execution_count": 92,
     "metadata": {},
     "output_type": "execute_result"
    }
   ],
   "source": [
    "#unir x y x_2\n",
    "import numpy as np\n",
    "import pandas as pd\n",
    "print(x_2.shape)\n",
    "xgrande= pd.concat([x_2,x[:7000]])\n",
    "print(xgrande.shape)\n",
    "#print(xgrande)\n",
    "print(y_2.shape)\n",
    "ygrande= np.concatenate([y_2,y[:7000]])\n",
    "print(ygrande)\n",
    "x_train, x_test, y_train, y_test = train_test_split(xgrande, ygrande, train_size=0.7, random_state=42)\n",
    "\n",
    "#Decision Tree\n",
    "dt_model = DecisionTreeClassifier()\n",
    "dt_model.fit(x_train,y_train)\n",
    "\n",
    "dt_predictions = dt_model.predict(x_test)\n",
    "accuracy_score(y_test,dt_predictions)"
   ]
  },
  {
   "cell_type": "code",
   "execution_count": 93,
   "metadata": {},
   "outputs": [
    {
     "name": "stdout",
     "output_type": "stream",
     "text": [
      "[0 0 0 0 0 0 0 0 0 0 0 0 0 0 0 0 0 0 0 0 0 0 0 0 0 0 0 0 0 0 0 0 0 0 0 0 0\n",
      " 0 0 0 0 0 0 0 0 0 0 0 0 0 0 0 0 0 0 0 0 0 0 0 0 0 0 0 0 0 0 0 0 0 0 0 0 0\n",
      " 0 0 0 0 0 0 0 0 0 0 0 0 0 0 0 0 0 0 0 0 0 0 0 0 0 0 0 0 0 0 0 0 0 0 0 0 0\n",
      " 0 0 0 0 0 0 0 0 0 0 0 0 0 0 0 0 0 0 0 0 0 0 0 0 0 0 0 0 0 0 0 0 0 0 0 0 0\n",
      " 0 0 0 0 0 0 0 0 0 0 0 0 0 0 0 0 0 0 0 0 0 0 0 0 0 0 0 0 0 0 0 0 0 0 0 0 0\n",
      " 0 0 0 0 0 0 0 0 0 0 0 0 0 0 0 0 0 0 0 0 0 0 0 0 0 0 0 0 0 0 0 0 0 0 0 0 0\n",
      " 0 0 0 0 0 0 0 0 0 0 0 0 0 0 0 0 0 0 0 0 0 0 0 0 0 0 0 0 0 0 0 0 0 0 0 0 0\n",
      " 0 0 0 0 0 0 0 0 0 0 0 0 0 0 0 0 0 0 0 0 0 0 0 0 0 0 0 0 0 0 0 0 0 0 0 0 0\n",
      " 0 0 0 0 0 0 0 0 0 0 0 0 0 0 0 0 0 0 0 0 0 0 0 0 0 0 0 0 0 0 0 0 0 0 0 0 0\n",
      " 0 0 0 0 0 0 0 0 0 0 0 0 0 0 0 0 0 0 0 0 0 0 0 0 0 0 0 0 0 0 0 0 0 0 0 0 0\n",
      " 0 0 0 0 0 0 0 0 0 0 0 0 0 0 0 0 0 0 0 0 0 0 0 0 0 0 0 0 0 0 0 0 0 0 0 0 0\n",
      " 0 0 0 0 0 0 0 0 0 0 0 0 0 0 0 0 0 0 0 0 0 0 0 0 0 0 0 0 0 0 0 0 0 0 0 0 0\n",
      " 0 0 0 0 0 0 0 0 0 0 0 0 0 0 0 0 0 0 0 0 0 0 0 0 0 0 0 0 0 0 0 0 0 0 0 0 0\n",
      " 0 0 0 0 0 0 0 0 0 0 0 0 0 0 0 0 0 0 0 0 0 0 0 0 0 0 0 0 0 0 0 0 0 0 0 0 0\n",
      " 0 0 0 0 0 0 0 0 0 0 0 0 0 0 0 0 0 0 0 0 0 0 0 0 0 0 0 0 0 0 0 0 0 0 0 0 0\n",
      " 0 0 0 2 2 0 0 0 0 0 0 0 0 0 0 0 0 0 0 0 0 0 0 0 0 0 0 0 0 0 0 0 0]\n"
     ]
    }
   ],
   "source": [
    "#predict\n",
    "dt_predictions = dt_model.predict(x_2)\n",
    "print(dt_predictions)"
   ]
  }
 ],
 "metadata": {
  "kernelspec": {
   "display_name": "Python 3",
   "language": "python",
   "name": "python3"
  },
  "language_info": {
   "codemirror_mode": {
    "name": "ipython",
    "version": 3
   },
   "file_extension": ".py",
   "mimetype": "text/x-python",
   "name": "python",
   "nbconvert_exporter": "python",
   "pygments_lexer": "ipython3",
   "version": "3.9.5"
  }
 },
 "nbformat": 4,
 "nbformat_minor": 2
}
