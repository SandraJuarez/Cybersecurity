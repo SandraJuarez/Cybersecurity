{
 "cells": [
  {
   "cell_type": "code",
   "execution_count": 2,
   "metadata": {},
   "outputs": [
    {
     "name": "stdout",
     "output_type": "stream",
     "text": [
      "True\n",
      "Datos capturados:\n",
      " [['1712222482.4289496' '157.90.91.73' '192.168.100.2' '6' '66']\n",
      " ['1712222483.1362083' '192.168.100.2' '224.0.0.251' '17' '126']\n",
      " ['1712222483.1412082' '192.168.100.12' '224.0.0.251' '17' '82']\n",
      " ['1712222483.1422062' '192.168.100.12' '224.0.0.251' '17' '126']\n",
      " ['1712222483.1432083' '192.168.100.12' '224.0.0.251' '17' '404']\n",
      " ['1712222483.1432083' '192.168.100.12' '224.0.0.251' '17' '193']\n",
      " ['1712222483.144207' '192.168.100.12' '224.0.0.251' '17' '82']\n",
      " ['1712222483.2172782' '192.168.100.12' '224.0.0.251' '17' '256']\n",
      " ['1712222483.2172782' '192.168.100.12' '224.0.0.251' '17' '193']\n",
      " ['1712222483.346482' '192.168.100.33' '192.168.100.255' '17' '63']]\n"
     ]
    }
   ],
   "source": [
    "import numpy as np\n",
    "from scapy.all import sniff\n",
    "from scapy.layers.inet import IP\n",
    "import time\n",
    "\n",
    "\n",
    "# Número máximo de paquetes a capturar\n",
    "num_paquetes = 10\n",
    "\n",
    "# Listas para almacenar las características de los paquetes\n",
    "times = []\n",
    "src_ips = []\n",
    "dst_ips = []\n",
    "protocols = []\n",
    "lengths = []\n",
    "\n",
    "# Función para manejar cada paquete capturado\n",
    "def packet_handler(packet):\n",
    "    global times, src_ips, dst_ips, protocols, lengths\n",
    "    if IP in packet:\n",
    "        times.append(time.time())  # Registro de tiempo de llegada del paquete\n",
    "        src_ips.append(packet[IP].src)\n",
    "        dst_ips.append(packet[IP].dst)\n",
    "        protocols.append(packet[IP].proto)\n",
    "        lengths.append(len(packet))\n",
    "\n",
    "        # Si se han capturado suficientes paquetes, detener la captura\n",
    "        if len(src_ips) >= num_paquetes:\n",
    "            return True  # Devuelve True para detener la captura\n",
    "\n",
    "# Captura los paquetes y llama a packet_handler para cada uno\n",
    "sniff(prn=packet_handler, store=0, count=num_paquetes)\n",
    "\n",
    "# Organizar los datos en un numpy array\n",
    "data = np.vstack((times, src_ips, dst_ips, protocols, lengths)).T\n",
    "\n",
    "# Imprimir el array\n",
    "print(\"Datos capturados:\\n\", data)\n"
   ]
  },
  {
   "cell_type": "code",
   "execution_count": 4,
   "metadata": {},
   "outputs": [
    {
     "ename": "RuntimeError",
     "evalue": "Cannot run the event loop while another loop is running",
     "output_type": "error",
     "traceback": [
      "\u001b[1;31m---------------------------------------------------------------------------\u001b[0m",
      "\u001b[1;31mRuntimeError\u001b[0m                              Traceback (most recent call last)",
      "Cell \u001b[1;32mIn[4], line 26\u001b[0m\n\u001b[0;32m     24\u001b[0m \u001b[38;5;66;03m# Ejemplo de uso\u001b[39;00m\n\u001b[0;32m     25\u001b[0m num_paquetes \u001b[38;5;241m=\u001b[39m \u001b[38;5;241m25\u001b[39m\n\u001b[1;32m---> 26\u001b[0m paquetes \u001b[38;5;241m=\u001b[39m \u001b[43mcapturar_paquetes\u001b[49m\u001b[43m(\u001b[49m\u001b[43mnum_paquetes\u001b[49m\u001b[43m)\u001b[49m\n\u001b[0;32m     28\u001b[0m \u001b[38;5;66;03m# Imprimir información sobre los paquetes capturados\u001b[39;00m\n\u001b[0;32m     29\u001b[0m \u001b[38;5;28;01mfor\u001b[39;00m i, packet \u001b[38;5;129;01min\u001b[39;00m \u001b[38;5;28menumerate\u001b[39m(paquetes, \u001b[38;5;241m1\u001b[39m):\n",
      "Cell \u001b[1;32mIn[4], line 20\u001b[0m, in \u001b[0;36mcapturar_paquetes\u001b[1;34m(num_paquetes)\u001b[0m\n\u001b[0;32m     17\u001b[0m         \u001b[38;5;28;01mreturn\u001b[39;00m \u001b[38;5;28;01mFalse\u001b[39;00m\n\u001b[0;32m     19\u001b[0m capture \u001b[38;5;241m=\u001b[39m pyshark\u001b[38;5;241m.\u001b[39mLiveCapture(interface\u001b[38;5;241m=\u001b[39m\u001b[38;5;124m'\u001b[39m\u001b[38;5;124myour_interface\u001b[39m\u001b[38;5;124m'\u001b[39m, bpf_filter\u001b[38;5;241m=\u001b[39m\u001b[38;5;124m'\u001b[39m\u001b[38;5;124mtcp\u001b[39m\u001b[38;5;124m'\u001b[39m)\n\u001b[1;32m---> 20\u001b[0m \u001b[43mcapture\u001b[49m\u001b[38;5;241;43m.\u001b[39;49m\u001b[43mapply_on_packets\u001b[49m\u001b[43m(\u001b[49m\u001b[43mpacket_handler\u001b[49m\u001b[43m,\u001b[49m\u001b[43m \u001b[49m\u001b[43mtimeout\u001b[49m\u001b[38;5;241;43m=\u001b[39;49m\u001b[38;5;241;43m10\u001b[39;49m\u001b[43m)\u001b[49m\n\u001b[0;32m     22\u001b[0m \u001b[38;5;28;01mreturn\u001b[39;00m packets\n",
      "File \u001b[1;32mc:\\Users\\flaco\\AppData\\Local\\Programs\\Python\\Python39\\lib\\site-packages\\pyshark\\capture\\capture.py:256\u001b[0m, in \u001b[0;36mCapture.apply_on_packets\u001b[1;34m(self, callback, timeout, packet_count)\u001b[0m\n\u001b[0;32m    254\u001b[0m \u001b[38;5;28;01mif\u001b[39;00m timeout \u001b[38;5;129;01mis\u001b[39;00m \u001b[38;5;129;01mnot\u001b[39;00m \u001b[38;5;28;01mNone\u001b[39;00m:\n\u001b[0;32m    255\u001b[0m     coro \u001b[38;5;241m=\u001b[39m asyncio\u001b[38;5;241m.\u001b[39mwait_for(coro, timeout)\n\u001b[1;32m--> 256\u001b[0m \u001b[38;5;28;01mreturn\u001b[39;00m \u001b[38;5;28;43mself\u001b[39;49m\u001b[38;5;241;43m.\u001b[39;49m\u001b[43meventloop\u001b[49m\u001b[38;5;241;43m.\u001b[39;49m\u001b[43mrun_until_complete\u001b[49m\u001b[43m(\u001b[49m\u001b[43mcoro\u001b[49m\u001b[43m)\u001b[49m\n",
      "File \u001b[1;32mc:\\Users\\flaco\\AppData\\Local\\Programs\\Python\\Python39\\lib\\asyncio\\base_events.py:618\u001b[0m, in \u001b[0;36mBaseEventLoop.run_until_complete\u001b[1;34m(self, future)\u001b[0m\n\u001b[0;32m    607\u001b[0m \u001b[38;5;250m\u001b[39m\u001b[38;5;124;03m\"\"\"Run until the Future is done.\u001b[39;00m\n\u001b[0;32m    608\u001b[0m \n\u001b[0;32m    609\u001b[0m \u001b[38;5;124;03mIf the argument is a coroutine, it is wrapped in a Task.\u001b[39;00m\n\u001b[1;32m   (...)\u001b[0m\n\u001b[0;32m    615\u001b[0m \u001b[38;5;124;03mReturn the Future's result, or raise its exception.\u001b[39;00m\n\u001b[0;32m    616\u001b[0m \u001b[38;5;124;03m\"\"\"\u001b[39;00m\n\u001b[0;32m    617\u001b[0m \u001b[38;5;28mself\u001b[39m\u001b[38;5;241m.\u001b[39m_check_closed()\n\u001b[1;32m--> 618\u001b[0m \u001b[38;5;28;43mself\u001b[39;49m\u001b[38;5;241;43m.\u001b[39;49m\u001b[43m_check_running\u001b[49m\u001b[43m(\u001b[49m\u001b[43m)\u001b[49m\n\u001b[0;32m    620\u001b[0m new_task \u001b[38;5;241m=\u001b[39m \u001b[38;5;129;01mnot\u001b[39;00m futures\u001b[38;5;241m.\u001b[39misfuture(future)\n\u001b[0;32m    621\u001b[0m future \u001b[38;5;241m=\u001b[39m tasks\u001b[38;5;241m.\u001b[39mensure_future(future, loop\u001b[38;5;241m=\u001b[39m\u001b[38;5;28mself\u001b[39m)\n",
      "File \u001b[1;32mc:\\Users\\flaco\\AppData\\Local\\Programs\\Python\\Python39\\lib\\asyncio\\base_events.py:580\u001b[0m, in \u001b[0;36mBaseEventLoop._check_running\u001b[1;34m(self)\u001b[0m\n\u001b[0;32m    578\u001b[0m     \u001b[38;5;28;01mraise\u001b[39;00m \u001b[38;5;167;01mRuntimeError\u001b[39;00m(\u001b[38;5;124m'\u001b[39m\u001b[38;5;124mThis event loop is already running\u001b[39m\u001b[38;5;124m'\u001b[39m)\n\u001b[0;32m    579\u001b[0m \u001b[38;5;28;01mif\u001b[39;00m events\u001b[38;5;241m.\u001b[39m_get_running_loop() \u001b[38;5;129;01mis\u001b[39;00m \u001b[38;5;129;01mnot\u001b[39;00m \u001b[38;5;28;01mNone\u001b[39;00m:\n\u001b[1;32m--> 580\u001b[0m     \u001b[38;5;28;01mraise\u001b[39;00m \u001b[38;5;167;01mRuntimeError\u001b[39;00m(\n\u001b[0;32m    581\u001b[0m         \u001b[38;5;124m'\u001b[39m\u001b[38;5;124mCannot run the event loop while another loop is running\u001b[39m\u001b[38;5;124m'\u001b[39m)\n",
      "\u001b[1;31mRuntimeError\u001b[0m: Cannot run the event loop while another loop is running"
     ]
    }
   ],
   "source": [
    "import pyshark\n",
    "\n",
    "def capturar_paquetes(num_paquetes):\n",
    "    packets = []\n",
    "\n",
    "    def packet_handler(pkt):\n",
    "        packet_info = {\n",
    "            \"time\": pkt.sniff_time.timestamp(),\n",
    "            \"src_ip\": pkt.ip.src,\n",
    "            \"dst_ip\": pkt.ip.dst,\n",
    "            \"protocol\": pkt.transport_layer,\n",
    "            \"length\": pkt.length\n",
    "        }\n",
    "        packets.append(packet_info)\n",
    "\n",
    "        if len(packets) >= num_paquetes:\n",
    "            return False\n",
    "\n",
    "    capture = pyshark.LiveCapture(interface='your_interface', bpf_filter='tcp')\n",
    "    capture.apply_on_packets(packet_handler, timeout=10)\n",
    "\n",
    "    return packets\n",
    "\n",
    "# Ejemplo de uso\n",
    "num_paquetes = 25\n",
    "paquetes = capturar_paquetes(num_paquetes)\n",
    "\n",
    "# Imprimir información sobre los paquetes capturados\n",
    "for i, packet in enumerate(paquetes, 1):\n",
    "    print(\"Paquete\", i)\n",
    "    print(\"Tiempo:\", packet[\"time\"])\n",
    "    print(\"IP origen:\", packet[\"src_ip\"])\n",
    "    print(\"IP destino:\", packet[\"dst_ip\"])\n",
    "    print(\"Protocolo:\", packet[\"protocol\"])\n",
    "    print(\"Longitud:\", packet[\"length\"])\n",
    "    print()\n"
   ]
  }
 ],
 "metadata": {
  "kernelspec": {
   "display_name": "Python 3",
   "language": "python",
   "name": "python3"
  },
  "language_info": {
   "codemirror_mode": {
    "name": "ipython",
    "version": 3
   },
   "file_extension": ".py",
   "mimetype": "text/x-python",
   "name": "python",
   "nbconvert_exporter": "python",
   "pygments_lexer": "ipython3",
   "version": "3.9.5"
  }
 },
 "nbformat": 4,
 "nbformat_minor": 2
}
