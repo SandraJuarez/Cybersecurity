{
 "cells": [
  {
   "cell_type": "code",
   "execution_count": 5,
   "metadata": {},
   "outputs": [
    {
     "name": "stdout",
     "output_type": "stream",
     "text": [
      "True\n",
      "Datos capturados:\n",
      " [['1712091804.6208072' '52.112.107.141' '192.168.27.24' '6' '100']\n",
      " ['1712091804.6455882' '192.168.27.24' '52.112.107.141' '6' '54']\n",
      " ['1712091804.66779' '192.168.27.24' '192.168.27.23' '17' '83']\n",
      " ['1712091804.66779' '192.168.27.24' '192.168.27.23' '17' '83']\n",
      " ['1712091804.6762042' '192.168.27.23' '192.168.27.24' '17' '140']\n",
      " ['1712091804.6762042' '192.168.27.24' '20.189.173.18' '6' '171']\n",
      " ['1712091804.712852' '192.168.27.24' '20.189.173.18' '6' '1466']\n",
      " ['1712091804.712852' '192.168.27.24' '20.189.173.18' '6' '1466']\n",
      " ['1712091804.712852' '192.168.27.24' '20.189.173.18' '6' '1466']\n",
      " ['1712091804.7162857' '192.168.27.24' '20.189.173.18' '6' '1466']]\n"
     ]
    }
   ],
   "source": [
    "import numpy as np\n",
    "from scapy.all import sniff\n",
    "from scapy.layers.inet import IP\n",
    "import time\n",
    "\n",
    "# Número máximo de paquetes a capturar\n",
    "num_paquetes = 10\n",
    "\n",
    "# Listas para almacenar las características de los paquetes\n",
    "times = []\n",
    "src_ips = []\n",
    "dst_ips = []\n",
    "protocols = []\n",
    "lengths = []\n",
    "\n",
    "# Función para manejar cada paquete capturado\n",
    "def packet_handler(packet):\n",
    "    global times, src_ips, dst_ips, protocols, lengths\n",
    "    if IP in packet:\n",
    "        times.append(time.time())  # Registro de tiempo de llegada del paquete\n",
    "        src_ips.append(packet[IP].src)\n",
    "        dst_ips.append(packet[IP].dst)\n",
    "        protocols.append(packet[IP].proto)\n",
    "        lengths.append(len(packet))\n",
    "\n",
    "        # Si se han capturado suficientes paquetes, detener la captura\n",
    "        if len(src_ips) >= num_paquetes:\n",
    "            return True  # Devuelve True para detener la captura\n",
    "\n",
    "# Captura los paquetes y llama a packet_handler para cada uno\n",
    "sniff(prn=packet_handler, store=0, count=num_paquetes)\n",
    "\n",
    "# Organizar los datos en un numpy array\n",
    "data = np.vstack((times, src_ips, dst_ips, protocols, lengths)).T\n",
    "\n",
    "# Imprimir el array\n",
    "print(\"Datos capturados:\\n\", data)\n"
   ]
  },
  {
   "cell_type": "code",
   "execution_count": 6,
   "metadata": {},
   "outputs": [
    {
     "data": {
      "text/plain": [
       "(10, 5)"
      ]
     },
     "execution_count": 6,
     "metadata": {},
     "output_type": "execute_result"
    }
   ],
   "source": [
    "data.shape"
   ]
  }
 ],
 "metadata": {
  "kernelspec": {
   "display_name": "Python 3",
   "language": "python",
   "name": "python3"
  },
  "language_info": {
   "codemirror_mode": {
    "name": "ipython",
    "version": 3
   },
   "file_extension": ".py",
   "mimetype": "text/x-python",
   "name": "python",
   "nbconvert_exporter": "python",
   "pygments_lexer": "ipython3",
   "version": "3.10.2"
  }
 },
 "nbformat": 4,
 "nbformat_minor": 2
}
