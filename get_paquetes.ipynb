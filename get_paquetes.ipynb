{
 "cells": [
  {
   "cell_type": "code",
   "execution_count": 25,
   "metadata": {},
   "outputs": [
    {
     "name": "stdout",
     "output_type": "stream",
     "text": [
      "True\n",
      "Datos capturados:\n",
      " [['1712227155.1922808' '192.168.100.33' '192.168.100.255' '17' '63']\n",
      " ['1712227156.4118726' '192.168.100.16' '255.255.255.255' '17' '214']\n",
      " ['1712227156.559964' '192.168.100.43' '239.255.255.250' '17' '216']\n",
      " ['1712227156.5751724' '192.168.100.43' '239.255.255.250' '17' '217']\n",
      " ['1712227156.876194' '192.168.100.33' '239.255.255.250' '17' '143']\n",
      " ['1712227156.9174612' '192.168.100.2' '13.69.109.130' '6' '171']\n",
      " ['1712227156.9696407' '192.168.100.2' '13.69.109.130' '6' '8652']\n",
      " ['1712227156.970163' '192.168.100.2' '1.1.1.1' '17' '92']\n",
      " ['1712227157.0034685' '1.1.1.1' '192.168.100.2' '17' '212']\n",
      " ['1712227157.0044684' '192.168.100.2' '20.189.173.5' '6' '66']]\n"
     ]
    }
   ],
   "source": [
    "import numpy as np\n",
    "from scapy.all import sniff\n",
    "from scapy.layers.inet import IP\n",
    "import time\n",
    "\n",
    "\n",
    "# Número máximo de paquetes a capturar\n",
    "num_paquetes = 10\n",
    "\n",
    "# Listas para almacenar las características de los paquetes\n",
    "times = []\n",
    "src_ips = []\n",
    "dst_ips = []\n",
    "protocols = []\n",
    "lengths = []\n",
    "\n",
    "\n",
    "# Función para manejar cada paquete capturado\n",
    "def packet_handler(packet):\n",
    "    global times, src_ips, dst_ips, protocols, lengths\n",
    "    if IP in packet:\n",
    "        times.append(time.time())  # Registro de tiempo de llegada del paquete\n",
    "        src_ips.append(packet[IP].src)\n",
    "        dst_ips.append(packet[IP].dst)\n",
    "        protocols.append(packet[IP].proto)\n",
    "        lengths.append(len(packet))\n",
    "        \n",
    "\n",
    "        # Si se han capturado suficientes paquetes, detener la captura\n",
    "        if len(src_ips) >= num_paquetes:\n",
    "            return True  # Devuelve True para detener la captura\n",
    "\n",
    "# Captura los paquetes y llama a packet_handler para cada uno\n",
    "sniff(prn=packet_handler, store=0, count=num_paquetes)\n",
    "\n",
    "# Organizar los datos en un numpy array\n",
    "data = np.vstack((times, src_ips, dst_ips, protocols, lengths)).T\n",
    "\n",
    "# Imprimir el array\n",
    "print(\"Datos capturados:\\n\", data)"
   ]
  },
  {
   "cell_type": "code",
   "execution_count": 30,
   "metadata": {},
   "outputs": [
    {
     "name": "stdout",
     "output_type": "stream",
     "text": [
      "True\n",
      "Datos capturados:\n",
      " [['1712227404.9600124' '192.168.100.2' '13.69.109.130' '6' '171'\n",
      "  'Ether / IP / TCP 192.168.100.2:58731 > 13.69.109.130:https PA / Raw'\n",
      "  '0']\n",
      " ['1712227405.1055362' '192.168.100.2' '13.69.109.130' '6' '6536'\n",
      "  'Ether / IP / TCP 192.168.100.2:58731 > 13.69.109.130:https PA / Raw'\n",
      "  '1']\n",
      " ['1712227405.1065366' '13.69.109.130' '192.168.100.2' '6' '60'\n",
      "  'Ether / IP / TCP 13.69.109.130:https > 192.168.100.2:58731 A / Padding'\n",
      "  '2']\n",
      " ['1712227405.1065366' '13.69.109.130' '192.168.100.2' '6' '148'\n",
      "  'Ether / IP / TCP 13.69.109.130:https > 192.168.100.2:58731 PA / Raw'\n",
      "  '3']\n",
      " ['1712227405.1075358' '192.168.100.2' '13.69.109.130' '6' '89'\n",
      "  'Ether / IP / TCP 192.168.100.2:58731 > 13.69.109.130:https PA / Raw'\n",
      "  '4']\n",
      " ['1712227405.267313' '192.168.100.33' '192.168.100.255' '17' '63'\n",
      "  'Ether / IP / UDP 192.168.100.33:45253 > 192.168.100.255:32414 / Raw'\n",
      "  '5']\n",
      " ['1712227405.3083112' '13.69.109.130' '192.168.100.2' '6' '60'\n",
      "  'Ether / IP / TCP 13.69.109.130:https > 192.168.100.2:58731 A / Padding'\n",
      "  '6']\n",
      " ['1712227406.0082123' '192.168.100.14' '239.255.255.250' '17' '96'\n",
      "  'Ether / IP / UDP 192.168.100.14:3423 > 239.255.255.250:3423 / Raw' '7']\n",
      " ['1712227406.2015607' '192.168.100.2' '224.0.0.251' '17' '83'\n",
      "  'Ether / IP / UDP / DNS Qry \"b\\'_oculusal_sp._tcp.local.\\'\" ' '8']\n",
      " ['1712227406.2025619' '192.168.100.2' '224.0.0.251' '17' '335'\n",
      "  'Ether / IP / UDP / DNS Ans \"b\\'flaco::DESKTOP-RMG725S._oculusal_sp._tcp.local.\\'\" '\n",
      "  '9']]\n"
     ]
    }
   ],
   "source": [
    "import numpy as np\n",
    "from scapy.all import sniff\n",
    "from scapy.layers.inet import IP\n",
    "import time\n",
    "\n",
    "\n",
    "# Número máximo de paquetes a capturar\n",
    "num_paquetes = 10\n",
    "\n",
    "# Listas para almacenar las características de los paquetes\n",
    "times = []\n",
    "src_ips = []\n",
    "dst_ips = []\n",
    "protocols = []\n",
    "lengths = []\n",
    "numbers = []\n",
    "strings = []\n",
    "\n",
    "# Función para manejar cada paquete capturado\n",
    "numb=0\n",
    "def packet_handler(packet):\n",
    "    global times, src_ips, dst_ips, protocols, lengths, strings, numbers, numb\n",
    "    if IP in packet:\n",
    "        times.append(time.time())  # Registro de tiempo de llegada del paquete\n",
    "        src_ips.append(packet[IP].src)\n",
    "        dst_ips.append(packet[IP].dst)\n",
    "        protocols.append(packet[IP].proto)\n",
    "        lengths.append(len(packet))\n",
    "        strings.append(str(packet))\n",
    "\n",
    "        numbers.append(numb)\n",
    "        numb=numb+1\n",
    "        \n",
    "\n",
    "        # Si se han capturado suficientes paquetes, detener la captura\n",
    "        if len(src_ips) >= num_paquetes:\n",
    "            return True  # Devuelve True para detener la captura\n",
    "\n",
    "# Captura los paquetes y llama a packet_handler para cada uno\n",
    "sniff(prn=packet_handler, store=0, count=num_paquetes)\n",
    "\n",
    "# Organizar los datos en un numpy array\n",
    "data = np.vstack((times, src_ips, dst_ips, protocols, lengths, strings, numbers)).T\n",
    "\n",
    "# Imprimir el array\n",
    "print(\"Datos capturados:\\n\", data)\n"
   ]
  },
  {
   "cell_type": "code",
   "execution_count": 23,
   "metadata": {},
   "outputs": [
    {
     "name": "stdout",
     "output_type": "stream",
     "text": [
      "Ether / IP / UDP / DNS Qry \"b'_oculusal_sp._tcp.local.'\" \n",
      "Ether / IP / UDP / DNS Ans \"b'flaco::DESKTOP-RMG725S._oculusal_sp._tcp.local.'\" \n",
      "Ether / IP / UDP / DNS Qry \"b'_oculusal_sp_v2._tcp.local.'\" \n",
      "Ether / IP / UDP / DNS Ans \"b'flaco::DESKTOP-RMG725S._oculusal_sp_v2._tcp.local.'\" \n",
      "Ether / IP / TCP 192.168.100.2:58731 > 13.69.109.130:https PA / Raw\n"
     ]
    },
    {
     "data": {
      "text/plain": [
       "<Sniffed: TCP:1 UDP:4 ICMP:0 Other:0>"
      ]
     },
     "execution_count": 23,
     "metadata": {},
     "output_type": "execute_result"
    }
   ],
   "source": [
    "from scapy.all import sniff\n",
    "\n",
    "strings=[]\n",
    "# Función para manejar cada paquete capturado\n",
    "def packet_handler(packet):\n",
    "    # Obtener la representación en forma de cadena del paquete\n",
    "    packet_str = str(packet)\n",
    "    \n",
    "    # Imprimir la cadena del paquete\n",
    "    print(packet_str)\n",
    "    strings.append(packet_str)\n",
    "\n",
    "# Capturar los paquetes y llamar a packet_handler para cada uno\n",
    "sniff(prn=packet_handler, count=5)\n"
   ]
  },
  {
   "cell_type": "code",
   "execution_count": 9,
   "metadata": {},
   "outputs": [
    {
     "data": {
      "text/plain": [
       "'Ether / IP / UDP / DNS Qry \"b\\'44595f8a-4ae5-f959-60d3-ad4350a40a11._googlezone._tcp.local.\\'\" '"
      ]
     },
     "execution_count": 9,
     "metadata": {},
     "output_type": "execute_result"
    }
   ],
   "source": [
    "strings[1]"
   ]
  }
 ],
 "metadata": {
  "kernelspec": {
   "display_name": "Python 3",
   "language": "python",
   "name": "python3"
  },
  "language_info": {
   "codemirror_mode": {
    "name": "ipython",
    "version": 3
   },
   "file_extension": ".py",
   "mimetype": "text/x-python",
   "name": "python",
   "nbconvert_exporter": "python",
   "pygments_lexer": "ipython3",
   "version": "3.9.5"
  }
 },
 "nbformat": 4,
 "nbformat_minor": 2
}
