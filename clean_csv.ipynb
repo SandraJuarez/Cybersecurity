{
 "cells": [
  {
   "cell_type": "markdown",
   "metadata": {},
   "source": [
    "Codigo para generar ventanas de tiempo para lstm usando csv de datos "
   ]
  },
  {
   "cell_type": "code",
   "execution_count": 1,
   "metadata": {},
   "outputs": [],
   "source": [
    "import random\n",
    "import numpy as np\n",
    "import pandas as pd\n",
    "import matplotlib.pyplot as plt"
   ]
  },
  {
   "cell_type": "code",
   "execution_count": 26,
   "metadata": {},
   "outputs": [],
   "source": [
    "#Codigo para generar ventanas de datos de csv y hacer posicionar esas ventanas aleatoriamente en nuevo csv \n",
    "\n",
    "#abrir archivo csv\n",
    "import csv\n",
    "#leer archivo csv with pandas\n",
    "df = pd.read_csv('spoofing_1.csv')"
   ]
  },
  {
   "cell_type": "code",
   "execution_count": 27,
   "metadata": {},
   "outputs": [
    {
     "name": "stdout",
     "output_type": "stream",
     "text": [
      "   No.      Time                 Source      Destination Protocol  Length  \\\n",
      "0    1  0.000000  PCSSystemtec_45:5c:08        Broadcast      ARP      64   \n",
      "1    2  0.094997  ASUSTekCOMPU_29:4c:fe        Broadcast      ARP      64   \n",
      "2    3  0.162274          192.168.1.172      224.0.0.251     MDNS      87   \n",
      "3    4  0.162799          192.168.1.172      224.0.0.251     MDNS     327   \n",
      "4    5  0.227164          192.168.1.183  255.255.255.255      UDP     234   \n",
      "\n",
      "                                                Info  \n",
      "0           Who has 192.168.1.207? Tell 192.168.1.81  \n",
      "1          Who has 192.168.1.156? Tell 192.168.1.216  \n",
      "2  Standard query 0x0000 PTR _oculusal_sp._tcp.lo...  \n",
      "3  Standard query response 0x0000 PTR SilentSiggo...  \n",
      "4                             49154  >  6667 Len=188  \n"
     ]
    }
   ],
   "source": [
    "print(df.head())"
   ]
  },
  {
   "cell_type": "code",
   "execution_count": 28,
   "metadata": {},
   "outputs": [
    {
     "name": "stdout",
     "output_type": "stream",
     "text": [
      "(1867, 7)\n"
     ]
    }
   ],
   "source": [
    "print(df.shape)"
   ]
  },
  {
   "cell_type": "code",
   "execution_count": 40,
   "metadata": {},
   "outputs": [
    {
     "name": "stdout",
     "output_type": "stream",
     "text": [
      "(1867, 7)\n",
      "   No.      Time                 Source      Destination Protocol  Length  \\\n",
      "0    1  0.000000  PCSSystemtec_45:5c:08        Broadcast      ARP      64   \n",
      "1    2  0.094997  ASUSTekCOMPU_29:4c:fe        Broadcast      ARP      64   \n",
      "2    3  0.162274          192.168.1.172      224.0.0.251     MDNS      87   \n",
      "3    4  0.162799          192.168.1.172      224.0.0.251     MDNS     327   \n",
      "4    5  0.227164          192.168.1.183  255.255.255.255      UDP     234   \n",
      "\n",
      "                                                Info  \n",
      "0           Who has 192.168.1.207? Tell 192.168.1.81  \n",
      "1          Who has 192.168.1.156? Tell 192.168.1.216  \n",
      "2  Standard query 0x0000 PTR _oculusal_sp._tcp.lo...  \n",
      "3  Standard query response 0x0000 PTR SilentSiggo...  \n",
      "4                             49154  >  6667 Len=188  \n"
     ]
    }
   ],
   "source": [
    "#dividir en ventanas de 1000 datos\n",
    "def randomize_window(datos, ventana_size):\n",
    "    ventanas = []\n",
    "    for i in range(0, len(datos), ventana_size):\n",
    "        ventana = datos[i:i+ventana_size]\n",
    "        ventanas.append(ventana)\n",
    "\n",
    "    #randomizar ventanas\n",
    "    random.shuffle(ventanas)\n",
    "    return ventanas \n",
    "\n",
    "ventanas = randomize_window(df, 100)\n",
    "#print(ventanas[0].shape)\n",
    "#print(ventanas[0])\n",
    "\n",
    "#crear nuevo csv con la lista de ventanas randomizadas usando pandas concat\n",
    "final_df = pd.DataFrame()\n",
    "for ventana in ventanas:\n",
    "    final_df = pd.concat([final_df, ventana], axis=0)\n",
    "\n",
    "\n",
    "print(final_df.shape)\n",
    "print(final_df.head())\n",
    "final_df.to_csv('spoofing_1_random.csv', index=False)\n",
    "\n",
    "\n"
   ]
  }
 ],
 "metadata": {
  "kernelspec": {
   "display_name": "Python 3",
   "language": "python",
   "name": "python3"
  },
  "language_info": {
   "codemirror_mode": {
    "name": "ipython",
    "version": 3
   },
   "file_extension": ".py",
   "mimetype": "text/x-python",
   "name": "python",
   "nbconvert_exporter": "python",
   "pygments_lexer": "ipython3",
   "version": "3.10.6"
  }
 },
 "nbformat": 4,
 "nbformat_minor": 2
}
