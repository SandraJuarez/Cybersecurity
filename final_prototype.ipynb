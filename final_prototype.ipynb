{
 "cells": [
  {
   "cell_type": "code",
   "execution_count": 1,
   "metadata": {},
   "outputs": [
    {
     "name": "stderr",
     "output_type": "stream",
     "text": [
      "WARNING: Wireshark is installed, but cannot read manuf !\n"
     ]
    }
   ],
   "source": [
    "import data_mining as dm\n",
    "from lstm_autoencoder import RecurrentAutoencoder\n",
    "import train\n",
    "import numpy as np\n",
    "import torch\n",
    "import importlib\n",
    "import pandas as pd\n",
    "\n",
    "from get_paquetes import capturar_paquetes\n",
    "import clean_paquetes\n"
   ]
  },
  {
   "cell_type": "markdown",
   "metadata": {},
   "source": [
    "Get package"
   ]
  },
  {
   "cell_type": "code",
   "execution_count": 2,
   "metadata": {},
   "outputs": [
    {
     "ename": "AttributeError",
     "evalue": "info",
     "output_type": "error",
     "traceback": [
      "\u001b[1;31m---------------------------------------------------------------------------\u001b[0m",
      "\u001b[1;31mValueError\u001b[0m                                Traceback (most recent call last)",
      "File \u001b[1;32mc:\\Users\\flaco\\AppData\\Local\\Programs\\Python\\Python39\\lib\\site-packages\\scapy\\packet.py:455\u001b[0m, in \u001b[0;36mPacket.__getattr__\u001b[1;34m(self, attr)\u001b[0m\n\u001b[0;32m    454\u001b[0m \u001b[38;5;28;01mtry\u001b[39;00m:\n\u001b[1;32m--> 455\u001b[0m     fld, v \u001b[38;5;241m=\u001b[39m \u001b[38;5;28;43mself\u001b[39;49m\u001b[38;5;241;43m.\u001b[39;49m\u001b[43mgetfield_and_val\u001b[49m\u001b[43m(\u001b[49m\u001b[43mattr\u001b[49m\u001b[43m)\u001b[49m\n\u001b[0;32m    456\u001b[0m \u001b[38;5;28;01mexcept\u001b[39;00m \u001b[38;5;167;01mValueError\u001b[39;00m:\n",
      "File \u001b[1;32mc:\\Users\\flaco\\AppData\\Local\\Programs\\Python\\Python39\\lib\\site-packages\\scapy\\packet.py:450\u001b[0m, in \u001b[0;36mPacket.getfield_and_val\u001b[1;34m(self, attr)\u001b[0m\n\u001b[0;32m    449\u001b[0m     \u001b[38;5;28;01mreturn\u001b[39;00m \u001b[38;5;28mself\u001b[39m\u001b[38;5;241m.\u001b[39mget_field(attr), \u001b[38;5;28mself\u001b[39m\u001b[38;5;241m.\u001b[39mdefault_fields[attr]\n\u001b[1;32m--> 450\u001b[0m \u001b[38;5;28;01mraise\u001b[39;00m \u001b[38;5;167;01mValueError\u001b[39;00m\n",
      "\u001b[1;31mValueError\u001b[0m: ",
      "\nDuring handling of the above exception, another exception occurred:\n",
      "\u001b[1;31mValueError\u001b[0m                                Traceback (most recent call last)",
      "File \u001b[1;32mc:\\Users\\flaco\\AppData\\Local\\Programs\\Python\\Python39\\lib\\site-packages\\scapy\\packet.py:455\u001b[0m, in \u001b[0;36mPacket.__getattr__\u001b[1;34m(self, attr)\u001b[0m\n\u001b[0;32m    454\u001b[0m \u001b[38;5;28;01mtry\u001b[39;00m:\n\u001b[1;32m--> 455\u001b[0m     fld, v \u001b[38;5;241m=\u001b[39m \u001b[38;5;28;43mself\u001b[39;49m\u001b[38;5;241;43m.\u001b[39;49m\u001b[43mgetfield_and_val\u001b[49m\u001b[43m(\u001b[49m\u001b[43mattr\u001b[49m\u001b[43m)\u001b[49m\n\u001b[0;32m    456\u001b[0m \u001b[38;5;28;01mexcept\u001b[39;00m \u001b[38;5;167;01mValueError\u001b[39;00m:\n",
      "File \u001b[1;32mc:\\Users\\flaco\\AppData\\Local\\Programs\\Python\\Python39\\lib\\site-packages\\scapy\\packet.py:450\u001b[0m, in \u001b[0;36mPacket.getfield_and_val\u001b[1;34m(self, attr)\u001b[0m\n\u001b[0;32m    449\u001b[0m     \u001b[38;5;28;01mreturn\u001b[39;00m \u001b[38;5;28mself\u001b[39m\u001b[38;5;241m.\u001b[39mget_field(attr), \u001b[38;5;28mself\u001b[39m\u001b[38;5;241m.\u001b[39mdefault_fields[attr]\n\u001b[1;32m--> 450\u001b[0m \u001b[38;5;28;01mraise\u001b[39;00m \u001b[38;5;167;01mValueError\u001b[39;00m\n",
      "\u001b[1;31mValueError\u001b[0m: ",
      "\nDuring handling of the above exception, another exception occurred:\n",
      "\u001b[1;31mValueError\u001b[0m                                Traceback (most recent call last)",
      "File \u001b[1;32mc:\\Users\\flaco\\AppData\\Local\\Programs\\Python\\Python39\\lib\\site-packages\\scapy\\packet.py:455\u001b[0m, in \u001b[0;36mPacket.__getattr__\u001b[1;34m(self, attr)\u001b[0m\n\u001b[0;32m    454\u001b[0m \u001b[38;5;28;01mtry\u001b[39;00m:\n\u001b[1;32m--> 455\u001b[0m     fld, v \u001b[38;5;241m=\u001b[39m \u001b[38;5;28;43mself\u001b[39;49m\u001b[38;5;241;43m.\u001b[39;49m\u001b[43mgetfield_and_val\u001b[49m\u001b[43m(\u001b[49m\u001b[43mattr\u001b[49m\u001b[43m)\u001b[49m\n\u001b[0;32m    456\u001b[0m \u001b[38;5;28;01mexcept\u001b[39;00m \u001b[38;5;167;01mValueError\u001b[39;00m:\n",
      "File \u001b[1;32mc:\\Users\\flaco\\AppData\\Local\\Programs\\Python\\Python39\\lib\\site-packages\\scapy\\packet.py:450\u001b[0m, in \u001b[0;36mPacket.getfield_and_val\u001b[1;34m(self, attr)\u001b[0m\n\u001b[0;32m    449\u001b[0m     \u001b[38;5;28;01mreturn\u001b[39;00m \u001b[38;5;28mself\u001b[39m\u001b[38;5;241m.\u001b[39mget_field(attr), \u001b[38;5;28mself\u001b[39m\u001b[38;5;241m.\u001b[39mdefault_fields[attr]\n\u001b[1;32m--> 450\u001b[0m \u001b[38;5;28;01mraise\u001b[39;00m \u001b[38;5;167;01mValueError\u001b[39;00m\n",
      "\u001b[1;31mValueError\u001b[0m: ",
      "\nDuring handling of the above exception, another exception occurred:\n",
      "\u001b[1;31mValueError\u001b[0m                                Traceback (most recent call last)",
      "File \u001b[1;32mc:\\Users\\flaco\\AppData\\Local\\Programs\\Python\\Python39\\lib\\site-packages\\scapy\\packet.py:455\u001b[0m, in \u001b[0;36mPacket.__getattr__\u001b[1;34m(self, attr)\u001b[0m\n\u001b[0;32m    454\u001b[0m \u001b[38;5;28;01mtry\u001b[39;00m:\n\u001b[1;32m--> 455\u001b[0m     fld, v \u001b[38;5;241m=\u001b[39m \u001b[38;5;28;43mself\u001b[39;49m\u001b[38;5;241;43m.\u001b[39;49m\u001b[43mgetfield_and_val\u001b[49m\u001b[43m(\u001b[49m\u001b[43mattr\u001b[49m\u001b[43m)\u001b[49m\n\u001b[0;32m    456\u001b[0m \u001b[38;5;28;01mexcept\u001b[39;00m \u001b[38;5;167;01mValueError\u001b[39;00m:\n",
      "File \u001b[1;32mc:\\Users\\flaco\\AppData\\Local\\Programs\\Python\\Python39\\lib\\site-packages\\scapy\\packet.py:450\u001b[0m, in \u001b[0;36mPacket.getfield_and_val\u001b[1;34m(self, attr)\u001b[0m\n\u001b[0;32m    449\u001b[0m     \u001b[38;5;28;01mreturn\u001b[39;00m \u001b[38;5;28mself\u001b[39m\u001b[38;5;241m.\u001b[39mget_field(attr), \u001b[38;5;28mself\u001b[39m\u001b[38;5;241m.\u001b[39mdefault_fields[attr]\n\u001b[1;32m--> 450\u001b[0m \u001b[38;5;28;01mraise\u001b[39;00m \u001b[38;5;167;01mValueError\u001b[39;00m\n",
      "\u001b[1;31mValueError\u001b[0m: ",
      "\nDuring handling of the above exception, another exception occurred:\n",
      "\u001b[1;31mAttributeError\u001b[0m                            Traceback (most recent call last)",
      "Cell \u001b[1;32mIn[2], line 2\u001b[0m\n\u001b[0;32m      1\u001b[0m num_paquetes \u001b[38;5;241m=\u001b[39m \u001b[38;5;241m25\u001b[39m\n\u001b[1;32m----> 2\u001b[0m datos_capturados \u001b[38;5;241m=\u001b[39m \u001b[43mcapturar_paquetes\u001b[49m\u001b[43m(\u001b[49m\u001b[43mnum_paquetes\u001b[49m\u001b[43m)\u001b[49m\n\u001b[0;32m      4\u001b[0m \u001b[38;5;66;03m#convertir a df\u001b[39;00m\n\u001b[0;32m      5\u001b[0m \u001b[38;5;66;03m#poner nombres a las columnas times, src_ips, dst_ips, protocols, lengths\u001b[39;00m\n\u001b[0;32m      6\u001b[0m \u001b[38;5;66;03m#df = pd.DataFrame(datos_capturados, columns = ['Time', 'Source', 'Destination', 'Protocol', 'Length'])\u001b[39;00m\n\u001b[0;32m      7\u001b[0m \n\u001b[0;32m      8\u001b[0m \u001b[38;5;66;03m#limpiar los datos\u001b[39;00m\n\u001b[0;32m      9\u001b[0m \u001b[38;5;66;03m#df = clean_paquetes.clean_and_get_Data(df,25)\u001b[39;00m\n\u001b[0;32m     15\u001b[0m \u001b[38;5;28mprint\u001b[39m(datos_capturados)\n",
      "File \u001b[1;32mc:\\Users\\flaco\\OneDrive\\Escritorio\\hackaton_2024\\Cybersecurity\\get_paquetes.py:32\u001b[0m, in \u001b[0;36mcapturar_paquetes\u001b[1;34m(num_paquetes)\u001b[0m\n\u001b[0;32m     29\u001b[0m             \u001b[38;5;28;01mreturn\u001b[39;00m \u001b[38;5;28;01mTrue\u001b[39;00m  \u001b[38;5;66;03m# Devuelve True para detener la captura\u001b[39;00m\n\u001b[0;32m     31\u001b[0m \u001b[38;5;66;03m# Captura los paquetes y llama a packet_handler para cada uno\u001b[39;00m\n\u001b[1;32m---> 32\u001b[0m \u001b[43msniff\u001b[49m\u001b[43m(\u001b[49m\u001b[43mprn\u001b[49m\u001b[38;5;241;43m=\u001b[39;49m\u001b[43mpacket_handler\u001b[49m\u001b[43m,\u001b[49m\u001b[43m \u001b[49m\u001b[43mstore\u001b[49m\u001b[38;5;241;43m=\u001b[39;49m\u001b[38;5;241;43m0\u001b[39;49m\u001b[43m,\u001b[49m\u001b[43m \u001b[49m\u001b[43mcount\u001b[49m\u001b[38;5;241;43m=\u001b[39;49m\u001b[43mnum_paquetes\u001b[49m\u001b[43m)\u001b[49m\n\u001b[0;32m     34\u001b[0m \u001b[38;5;66;03m# Organizar los datos en un numpy array\u001b[39;00m\n\u001b[0;32m     35\u001b[0m data \u001b[38;5;241m=\u001b[39m np\u001b[38;5;241m.\u001b[39mvstack((times, src_ips, dst_ips, protocols, lengths,info))\u001b[38;5;241m.\u001b[39mT\n",
      "File \u001b[1;32mc:\\Users\\flaco\\AppData\\Local\\Programs\\Python\\Python39\\lib\\site-packages\\scapy\\sendrecv.py:1311\u001b[0m, in \u001b[0;36msniff\u001b[1;34m(*args, **kwargs)\u001b[0m\n\u001b[0;32m   1307\u001b[0m \u001b[38;5;129m@conf\u001b[39m\u001b[38;5;241m.\u001b[39mcommands\u001b[38;5;241m.\u001b[39mregister\n\u001b[0;32m   1308\u001b[0m \u001b[38;5;28;01mdef\u001b[39;00m \u001b[38;5;21msniff\u001b[39m(\u001b[38;5;241m*\u001b[39margs, \u001b[38;5;241m*\u001b[39m\u001b[38;5;241m*\u001b[39mkwargs):\n\u001b[0;32m   1309\u001b[0m     \u001b[38;5;66;03m# type: (*Any, **Any) -> PacketList\u001b[39;00m\n\u001b[0;32m   1310\u001b[0m     sniffer \u001b[38;5;241m=\u001b[39m AsyncSniffer()\n\u001b[1;32m-> 1311\u001b[0m     sniffer\u001b[38;5;241m.\u001b[39m_run(\u001b[38;5;241m*\u001b[39margs, \u001b[38;5;241m*\u001b[39m\u001b[38;5;241m*\u001b[39mkwargs)\n\u001b[0;32m   1312\u001b[0m     \u001b[38;5;28;01mreturn\u001b[39;00m cast(PacketList, sniffer\u001b[38;5;241m.\u001b[39mresults)\n",
      "File \u001b[1;32mc:\\Users\\flaco\\AppData\\Local\\Programs\\Python\\Python39\\lib\\site-packages\\scapy\\sendrecv.py:1254\u001b[0m, in \u001b[0;36mAsyncSniffer._run\u001b[1;34m(self, count, store, offline, quiet, prn, lfilter, L2socket, timeout, opened_socket, stop_filter, iface, started_callback, session, session_kwargs, **karg)\u001b[0m\n\u001b[0;32m   1252\u001b[0m p\u001b[38;5;241m.\u001b[39msniffed_on \u001b[38;5;241m=\u001b[39m sniff_sockets[s]\n\u001b[0;32m   1253\u001b[0m \u001b[38;5;66;03m# on_packet_received handles the prn/storage\u001b[39;00m\n\u001b[1;32m-> 1254\u001b[0m \u001b[43msession\u001b[49m\u001b[38;5;241;43m.\u001b[39;49m\u001b[43mon_packet_received\u001b[49m\u001b[43m(\u001b[49m\u001b[43mp\u001b[49m\u001b[43m)\u001b[49m\n\u001b[0;32m   1255\u001b[0m \u001b[38;5;66;03m# check\u001b[39;00m\n\u001b[0;32m   1256\u001b[0m \u001b[38;5;28;01mif\u001b[39;00m (stop_filter \u001b[38;5;129;01mand\u001b[39;00m stop_filter(p)) \u001b[38;5;129;01mor\u001b[39;00m \\\n\u001b[0;32m   1257\u001b[0m         (\u001b[38;5;241m0\u001b[39m \u001b[38;5;241m<\u001b[39m count \u001b[38;5;241m<\u001b[39m\u001b[38;5;241m=\u001b[39m session\u001b[38;5;241m.\u001b[39mcount):\n",
      "File \u001b[1;32mc:\\Users\\flaco\\AppData\\Local\\Programs\\Python\\Python39\\lib\\site-packages\\scapy\\sessions.py:109\u001b[0m, in \u001b[0;36mDefaultSession.on_packet_received\u001b[1;34m(self, pkt)\u001b[0m\n\u001b[0;32m    107\u001b[0m     \u001b[38;5;28mself\u001b[39m\u001b[38;5;241m.\u001b[39mlst\u001b[38;5;241m.\u001b[39mappend(pkt)\n\u001b[0;32m    108\u001b[0m \u001b[38;5;28;01mif\u001b[39;00m \u001b[38;5;28mself\u001b[39m\u001b[38;5;241m.\u001b[39mprn:\n\u001b[1;32m--> 109\u001b[0m     result \u001b[38;5;241m=\u001b[39m \u001b[38;5;28;43mself\u001b[39;49m\u001b[38;5;241;43m.\u001b[39;49m\u001b[43mprn\u001b[49m\u001b[43m(\u001b[49m\u001b[43mpkt\u001b[49m\u001b[43m)\u001b[49m\n\u001b[0;32m    110\u001b[0m     \u001b[38;5;28;01mif\u001b[39;00m result \u001b[38;5;129;01mis\u001b[39;00m \u001b[38;5;129;01mnot\u001b[39;00m \u001b[38;5;28;01mNone\u001b[39;00m:\n\u001b[0;32m    111\u001b[0m         \u001b[38;5;28mprint\u001b[39m(result)\n",
      "File \u001b[1;32mc:\\Users\\flaco\\OneDrive\\Escritorio\\hackaton_2024\\Cybersecurity\\get_paquetes.py:23\u001b[0m, in \u001b[0;36mcapturar_paquetes.<locals>.packet_handler\u001b[1;34m(packet)\u001b[0m\n\u001b[0;32m     21\u001b[0m protocols\u001b[38;5;241m.\u001b[39mappend(packet[IP]\u001b[38;5;241m.\u001b[39mproto)\n\u001b[0;32m     22\u001b[0m lengths\u001b[38;5;241m.\u001b[39mappend(\u001b[38;5;28mlen\u001b[39m(packet))\n\u001b[1;32m---> 23\u001b[0m info\u001b[38;5;241m.\u001b[39mappend(\u001b[43mpacket\u001b[49m\u001b[38;5;241;43m.\u001b[39;49m\u001b[43minfo\u001b[49m())\n\u001b[0;32m     27\u001b[0m \u001b[38;5;66;03m# Si se han capturado suficientes paquetes, detener la captura\u001b[39;00m\n\u001b[0;32m     28\u001b[0m \u001b[38;5;28;01mif\u001b[39;00m \u001b[38;5;28mlen\u001b[39m(src_ips) \u001b[38;5;241m>\u001b[39m\u001b[38;5;241m=\u001b[39m num_paquetes:\n",
      "File \u001b[1;32mc:\\Users\\flaco\\AppData\\Local\\Programs\\Python\\Python39\\lib\\site-packages\\scapy\\packet.py:457\u001b[0m, in \u001b[0;36mPacket.__getattr__\u001b[1;34m(self, attr)\u001b[0m\n\u001b[0;32m    455\u001b[0m     fld, v \u001b[38;5;241m=\u001b[39m \u001b[38;5;28mself\u001b[39m\u001b[38;5;241m.\u001b[39mgetfield_and_val(attr)\n\u001b[0;32m    456\u001b[0m \u001b[38;5;28;01mexcept\u001b[39;00m \u001b[38;5;167;01mValueError\u001b[39;00m:\n\u001b[1;32m--> 457\u001b[0m     \u001b[38;5;28;01mreturn\u001b[39;00m \u001b[38;5;28;43mself\u001b[39;49m\u001b[38;5;241;43m.\u001b[39;49m\u001b[43mpayload\u001b[49m\u001b[38;5;241;43m.\u001b[39;49m\u001b[38;5;21;43m__getattr__\u001b[39;49m\u001b[43m(\u001b[49m\u001b[43mattr\u001b[49m\u001b[43m)\u001b[49m\n\u001b[0;32m    458\u001b[0m \u001b[38;5;28;01mif\u001b[39;00m fld \u001b[38;5;129;01mis\u001b[39;00m \u001b[38;5;129;01mnot\u001b[39;00m \u001b[38;5;28;01mNone\u001b[39;00m:\n\u001b[0;32m    459\u001b[0m     \u001b[38;5;28;01mreturn\u001b[39;00m v \u001b[38;5;28;01mif\u001b[39;00m \u001b[38;5;28misinstance\u001b[39m(v, RawVal) \u001b[38;5;28;01melse\u001b[39;00m fld\u001b[38;5;241m.\u001b[39mi2h(\u001b[38;5;28mself\u001b[39m, v)\n",
      "File \u001b[1;32mc:\\Users\\flaco\\AppData\\Local\\Programs\\Python\\Python39\\lib\\site-packages\\scapy\\packet.py:457\u001b[0m, in \u001b[0;36mPacket.__getattr__\u001b[1;34m(self, attr)\u001b[0m\n\u001b[0;32m    455\u001b[0m     fld, v \u001b[38;5;241m=\u001b[39m \u001b[38;5;28mself\u001b[39m\u001b[38;5;241m.\u001b[39mgetfield_and_val(attr)\n\u001b[0;32m    456\u001b[0m \u001b[38;5;28;01mexcept\u001b[39;00m \u001b[38;5;167;01mValueError\u001b[39;00m:\n\u001b[1;32m--> 457\u001b[0m     \u001b[38;5;28;01mreturn\u001b[39;00m \u001b[38;5;28;43mself\u001b[39;49m\u001b[38;5;241;43m.\u001b[39;49m\u001b[43mpayload\u001b[49m\u001b[38;5;241;43m.\u001b[39;49m\u001b[38;5;21;43m__getattr__\u001b[39;49m\u001b[43m(\u001b[49m\u001b[43mattr\u001b[49m\u001b[43m)\u001b[49m\n\u001b[0;32m    458\u001b[0m \u001b[38;5;28;01mif\u001b[39;00m fld \u001b[38;5;129;01mis\u001b[39;00m \u001b[38;5;129;01mnot\u001b[39;00m \u001b[38;5;28;01mNone\u001b[39;00m:\n\u001b[0;32m    459\u001b[0m     \u001b[38;5;28;01mreturn\u001b[39;00m v \u001b[38;5;28;01mif\u001b[39;00m \u001b[38;5;28misinstance\u001b[39m(v, RawVal) \u001b[38;5;28;01melse\u001b[39;00m fld\u001b[38;5;241m.\u001b[39mi2h(\u001b[38;5;28mself\u001b[39m, v)\n",
      "    \u001b[1;31m[... skipping similar frames: Packet.__getattr__ at line 457 (1 times)]\u001b[0m\n",
      "File \u001b[1;32mc:\\Users\\flaco\\AppData\\Local\\Programs\\Python\\Python39\\lib\\site-packages\\scapy\\packet.py:457\u001b[0m, in \u001b[0;36mPacket.__getattr__\u001b[1;34m(self, attr)\u001b[0m\n\u001b[0;32m    455\u001b[0m     fld, v \u001b[38;5;241m=\u001b[39m \u001b[38;5;28mself\u001b[39m\u001b[38;5;241m.\u001b[39mgetfield_and_val(attr)\n\u001b[0;32m    456\u001b[0m \u001b[38;5;28;01mexcept\u001b[39;00m \u001b[38;5;167;01mValueError\u001b[39;00m:\n\u001b[1;32m--> 457\u001b[0m     \u001b[38;5;28;01mreturn\u001b[39;00m \u001b[38;5;28;43mself\u001b[39;49m\u001b[38;5;241;43m.\u001b[39;49m\u001b[43mpayload\u001b[49m\u001b[38;5;241;43m.\u001b[39;49m\u001b[38;5;21;43m__getattr__\u001b[39;49m\u001b[43m(\u001b[49m\u001b[43mattr\u001b[49m\u001b[43m)\u001b[49m\n\u001b[0;32m    458\u001b[0m \u001b[38;5;28;01mif\u001b[39;00m fld \u001b[38;5;129;01mis\u001b[39;00m \u001b[38;5;129;01mnot\u001b[39;00m \u001b[38;5;28;01mNone\u001b[39;00m:\n\u001b[0;32m    459\u001b[0m     \u001b[38;5;28;01mreturn\u001b[39;00m v \u001b[38;5;28;01mif\u001b[39;00m \u001b[38;5;28misinstance\u001b[39m(v, RawVal) \u001b[38;5;28;01melse\u001b[39;00m fld\u001b[38;5;241m.\u001b[39mi2h(\u001b[38;5;28mself\u001b[39m, v)\n",
      "File \u001b[1;32mc:\\Users\\flaco\\AppData\\Local\\Programs\\Python\\Python39\\lib\\site-packages\\scapy\\packet.py:455\u001b[0m, in \u001b[0;36mPacket.__getattr__\u001b[1;34m(self, attr)\u001b[0m\n\u001b[0;32m    452\u001b[0m \u001b[38;5;28;01mdef\u001b[39;00m \u001b[38;5;21m__getattr__\u001b[39m(\u001b[38;5;28mself\u001b[39m, attr):\n\u001b[0;32m    453\u001b[0m     \u001b[38;5;66;03m# type: (str) -> Any\u001b[39;00m\n\u001b[0;32m    454\u001b[0m     \u001b[38;5;28;01mtry\u001b[39;00m:\n\u001b[1;32m--> 455\u001b[0m         fld, v \u001b[38;5;241m=\u001b[39m \u001b[38;5;28;43mself\u001b[39;49m\u001b[38;5;241;43m.\u001b[39;49m\u001b[43mgetfield_and_val\u001b[49m\u001b[43m(\u001b[49m\u001b[43mattr\u001b[49m\u001b[43m)\u001b[49m\n\u001b[0;32m    456\u001b[0m     \u001b[38;5;28;01mexcept\u001b[39;00m \u001b[38;5;167;01mValueError\u001b[39;00m:\n\u001b[0;32m    457\u001b[0m         \u001b[38;5;28;01mreturn\u001b[39;00m \u001b[38;5;28mself\u001b[39m\u001b[38;5;241m.\u001b[39mpayload\u001b[38;5;241m.\u001b[39m\u001b[38;5;21m__getattr__\u001b[39m(attr)\n",
      "File \u001b[1;32mc:\\Users\\flaco\\AppData\\Local\\Programs\\Python\\Python39\\lib\\site-packages\\scapy\\packet.py:1764\u001b[0m, in \u001b[0;36mNoPayload.getfield_and_val\u001b[1;34m(self, attr)\u001b[0m\n\u001b[0;32m   1762\u001b[0m \u001b[38;5;28;01mdef\u001b[39;00m \u001b[38;5;21mgetfield_and_val\u001b[39m(\u001b[38;5;28mself\u001b[39m, attr):\n\u001b[0;32m   1763\u001b[0m     \u001b[38;5;66;03m# type: (str) -> NoReturn\u001b[39;00m\n\u001b[1;32m-> 1764\u001b[0m     \u001b[38;5;28;01mraise\u001b[39;00m \u001b[38;5;167;01mAttributeError\u001b[39;00m(attr)\n",
      "\u001b[1;31mAttributeError\u001b[0m: info"
     ]
    }
   ],
   "source": [
    "num_paquetes = 25\n",
    "datos_capturados = capturar_paquetes(num_paquetes)\n",
    "\n",
    "#convertir a df\n",
    "#poner nombres a las columnas times, src_ips, dst_ips, protocols, lengths\n",
    "#df = pd.DataFrame(datos_capturados, columns = ['Time', 'Source', 'Destination', 'Protocol', 'Length'])\n",
    "\n",
    "#limpiar los datos\n",
    "#df = clean_paquetes.clean_and_get_Data(df,25)\n",
    "\n",
    "\n",
    "\n",
    "\n",
    "\n",
    "print(datos_capturados)\n",
    "\n"
   ]
  }
 ],
 "metadata": {
  "kernelspec": {
   "display_name": "Python 3",
   "language": "python",
   "name": "python3"
  },
  "language_info": {
   "codemirror_mode": {
    "name": "ipython",
    "version": 3
   },
   "file_extension": ".py",
   "mimetype": "text/x-python",
   "name": "python",
   "nbconvert_exporter": "python",
   "pygments_lexer": "ipython3",
   "version": "3.9.5"
  }
 },
 "nbformat": 4,
 "nbformat_minor": 2
}
